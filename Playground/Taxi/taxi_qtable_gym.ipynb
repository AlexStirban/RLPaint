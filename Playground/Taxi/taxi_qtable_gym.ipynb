{
 "cells": [
  {
   "cell_type": "markdown",
   "metadata": {},
   "source": [
    "# Solving TAXI Environment using QTable"
   ]
  },
  {
   "cell_type": "markdown",
   "metadata": {},
   "source": [
    "## Imports"
   ]
  },
  {
   "cell_type": "code",
   "execution_count": 2,
   "metadata": {},
   "outputs": [
    {
     "name": "stderr",
     "output_type": "stream",
     "text": [
      "/home/alex/anaconda3/envs/rlpaint/lib/python3.9/site-packages/keras/utils/image_utils.py:36: DeprecationWarning: NEAREST is deprecated and will be removed in Pillow 10 (2023-07-01). Use Resampling.NEAREST or Dither.NONE instead.\n",
      "  'nearest': pil_image.NEAREST,\n",
      "/home/alex/anaconda3/envs/rlpaint/lib/python3.9/site-packages/keras/utils/image_utils.py:37: DeprecationWarning: BILINEAR is deprecated and will be removed in Pillow 10 (2023-07-01). Use Resampling.BILINEAR instead.\n",
      "  'bilinear': pil_image.BILINEAR,\n",
      "/home/alex/anaconda3/envs/rlpaint/lib/python3.9/site-packages/keras/utils/image_utils.py:38: DeprecationWarning: BICUBIC is deprecated and will be removed in Pillow 10 (2023-07-01). Use Resampling.BICUBIC instead.\n",
      "  'bicubic': pil_image.BICUBIC,\n",
      "/home/alex/anaconda3/envs/rlpaint/lib/python3.9/site-packages/keras/utils/image_utils.py:39: DeprecationWarning: HAMMING is deprecated and will be removed in Pillow 10 (2023-07-01). Use Resampling.HAMMING instead.\n",
      "  'hamming': pil_image.HAMMING,\n",
      "/home/alex/anaconda3/envs/rlpaint/lib/python3.9/site-packages/keras/utils/image_utils.py:40: DeprecationWarning: BOX is deprecated and will be removed in Pillow 10 (2023-07-01). Use Resampling.BOX instead.\n",
      "  'box': pil_image.BOX,\n",
      "/home/alex/anaconda3/envs/rlpaint/lib/python3.9/site-packages/keras/utils/image_utils.py:41: DeprecationWarning: LANCZOS is deprecated and will be removed in Pillow 10 (2023-07-01). Use Resampling.LANCZOS instead.\n",
      "  'lanczos': pil_image.LANCZOS,\n"
     ]
    }
   ],
   "source": [
    "# Full imports\n",
    "import gym\n",
    "\n",
    "# Aliased imports\n",
    "import tensorflow as tf\n",
    "import numpy as np\n",
    "import matplotlib.pyplot as plt\n",
    "\n",
    "# Partial Import\n",
    "from gym.wrappers.monitoring.video_recorder import VideoRecorder\n",
    "from tqdm.notebook import tqdm, trange\n",
    "from IPython.display import clear_output\n"
   ]
  },
  {
   "cell_type": "markdown",
   "metadata": {},
   "source": [
    "## Bootstrap"
   ]
  },
  {
   "cell_type": "code",
   "execution_count": 3,
   "metadata": {},
   "outputs": [
    {
     "data": {
      "text/plain": [
       "[PhysicalDevice(name='/physical_device:GPU:0', device_type='GPU')]"
      ]
     },
     "execution_count": 3,
     "metadata": {},
     "output_type": "execute_result"
    }
   ],
   "source": [
    "# Remember to export to export \"LD_LIBRARY_PATH=$LD_LIBRARY_PATH:$CONDA_PREFIX/lib/\"\" if using linux\n",
    "# Drop numa errors in term: \"for a in /sys/bus/pci/devices/*; do echo 0 | sudo tee -a $a/numa_node; done\"\n",
    "\n",
    "\n",
    "# We have GPU\n",
    "tf.config.list_physical_devices('GPU')"
   ]
  },
  {
   "cell_type": "code",
   "execution_count": 4,
   "metadata": {},
   "outputs": [
    {
     "name": "stdout",
     "output_type": "stream",
     "text": [
      "/bin/bash: /home/alex/anaconda3/envs/rlpaint/lib/libtinfo.so.6: no version information available (required by /bin/bash)\n",
      "mkdir: cannot create directory ‘videos’: File exists\n"
     ]
    }
   ],
   "source": [
    "# Make videos folder\n",
    "# Install asciinema: \"apt-get install asciinema\"\n",
    "%mkdir videos"
   ]
  },
  {
   "cell_type": "markdown",
   "metadata": {},
   "source": [
    "## Random Agent"
   ]
  },
  {
   "cell_type": "code",
   "execution_count": 5,
   "metadata": {},
   "outputs": [
    {
     "name": "stderr",
     "output_type": "stream",
     "text": [
      "/home/alex/anaconda3/envs/rlpaint/lib/python3.9/site-packages/gym/wrappers/monitoring/video_recorder.py:115: DeprecationWarning: \u001b[33mWARN: `env.metadata[\"video.frames_per_second\"] is marked as deprecated and will be replaced with `env.metadata[\"render_fps\"]` see https://github.com/openai/gym/pull/2654 for more details\u001b[0m\n",
      "  logger.deprecation(\n"
     ]
    }
   ],
   "source": [
    "# Def env\n",
    "env = gym.make(\"Taxi-v3\")\n",
    "video_recorder = VideoRecorder(env, \"./videos/random_agent.json\", enabled=True)\n",
    "\n",
    "# Init state\n",
    "state = env.reset()\n",
    "\n",
    "for i in range(50):\n",
    "    # Record video\n",
    "    video_recorder.capture_frame()\n",
    "\n",
    "    # Sample a random action\n",
    "    action = env.action_space.sample()\n",
    "\n",
    "    # Step\n",
    "    env.step(action)\n",
    "\n",
    "# End taxi instance\n",
    "env.close()"
   ]
  },
  {
   "cell_type": "markdown",
   "metadata": {},
   "source": [
    "![](./videos/random_agent.gif)"
   ]
  },
  {
   "cell_type": "markdown",
   "metadata": {},
   "source": [
    "## QLearning"
   ]
  },
  {
   "cell_type": "markdown",
   "metadata": {},
   "source": [
    "We have the a grid of 5x5, where the pick-up and drop-off locations might be {R, G, B, Y}. Since the client might be a passanger, we need to account with an additional state:\n",
    "* States of the taxi position: $5\\times5$\n",
    "* States of the drop-off locations: $4$\n",
    "* States of the pick-up/passenger: $4$ (R, G, B, Y) + $1$ (on taxi) \n",
    "\n",
    "Then we have $5\\times5\\times5\\times(4+1)=500$ total states."
   ]
  },
  {
   "cell_type": "code",
   "execution_count": 6,
   "metadata": {},
   "outputs": [
    {
     "name": "stdout",
     "output_type": "stream",
     "text": [
      "Help on TaxiEnv in module gym.envs.toy_text.taxi object:\n",
      "\n",
      "class TaxiEnv(gym.core.Env)\n",
      " |  The Taxi Problem\n",
      " |  from \"Hierarchical Reinforcement Learning with the MAXQ Value Function Decomposition\"\n",
      " |  by Tom Dietterich\n",
      " |  \n",
      " |  ### Description\n",
      " |  There are four designated locations in the grid world indicated by R(ed),\n",
      " |  G(reen), Y(ellow), and B(lue). When the episode starts, the taxi starts off\n",
      " |  at a random square and the passenger is at a random location. The taxi\n",
      " |  drives to the passenger's location, picks up the passenger, drives to the\n",
      " |  passenger's destination (another one of the four specified locations), and\n",
      " |  then drops off the passenger. Once the passenger is dropped off, the episode ends.\n",
      " |  \n",
      " |  Map:\n",
      " |  \n",
      " |      +---------+\n",
      " |      |R: | : :G|\n",
      " |      | : | : : |\n",
      " |      | : : : : |\n",
      " |      | | : | : |\n",
      " |      |Y| : |B: |\n",
      " |      +---------+\n",
      " |  \n",
      " |  ### Actions\n",
      " |  There are 6 discrete deterministic actions:\n",
      " |  - 0: move south\n",
      " |  - 1: move north\n",
      " |  - 2: move east\n",
      " |  - 3: move west\n",
      " |  - 4: pickup passenger\n",
      " |  - 5: drop off passenger\n",
      " |  \n",
      " |  ### Observations\n",
      " |  There are 500 discrete states since there are 25 taxi positions, 5 possible\n",
      " |  locations of the passenger (including the case when the passenger is in the\n",
      " |  taxi), and 4 destination locations.\n",
      " |  \n",
      " |  Note that there are 400 states that can actually be reached during an\n",
      " |  episode. The missing states correspond to situations in which the passenger\n",
      " |  is at the same location as their destination, as this typically signals the\n",
      " |  end of an episode. Four additional states can be observed right after a\n",
      " |  successful episodes, when both the passenger and the taxi are at the destination.\n",
      " |  This gives a total of 404 reachable discrete states.\n",
      " |  \n",
      " |  Passenger locations:\n",
      " |  - 0: R(ed)\n",
      " |  - 1: G(reen)\n",
      " |  - 2: Y(ellow)\n",
      " |  - 3: B(lue)\n",
      " |  - 4: in taxi\n",
      " |  \n",
      " |  Destinations:\n",
      " |  - 0: R(ed)\n",
      " |  - 1: G(reen)\n",
      " |  - 2: Y(ellow)\n",
      " |  - 3: B(lue)\n",
      " |  \n",
      " |  ### Rewards\n",
      " |  - -1 per step unless other reward is triggered.\n",
      " |  - +20 delivering passenger.\n",
      " |  - -10  executing \"pickup\" and \"drop-off\" actions illegally.\n",
      " |  \n",
      " |  ### Rendering\n",
      " |  - blue: passenger\n",
      " |  - magenta: destination\n",
      " |  - yellow: empty taxi\n",
      " |  - green: full taxi\n",
      " |  - other letters (R, G, Y and B): locations for passengers and destinations\n",
      " |  state space is represented by:\n",
      " |  (taxi_row, taxi_col, passenger_location, destination)\n",
      " |  \n",
      " |  ### Arguments\n",
      " |  \n",
      " |  ```\n",
      " |  gym.make('Taxi-v3')\n",
      " |  ```\n",
      " |  \n",
      " |  ### Version History\n",
      " |  * v3: Map Correction + Cleaner Domain Description\n",
      " |  * v2: Disallow Taxi start location = goal location, Update Taxi observations in the rollout, Update Taxi reward threshold.\n",
      " |  * v1: Remove (3,2) from locs, add passidx<4 check\n",
      " |  * v0: Initial versions release\n",
      " |  \n",
      " |  Method resolution order:\n",
      " |      TaxiEnv\n",
      " |      gym.core.Env\n",
      " |      typing.Generic\n",
      " |      builtins.object\n",
      " |  \n",
      " |  Methods defined here:\n",
      " |  \n",
      " |  __init__(self)\n",
      " |      Initialize self.  See help(type(self)) for accurate signature.\n",
      " |  \n",
      " |  decode(self, i)\n",
      " |  \n",
      " |  encode(self, taxi_row, taxi_col, pass_loc, dest_idx)\n",
      " |  \n",
      " |  render(self, mode='human')\n",
      " |      Renders the environment.\n",
      " |      \n",
      " |      The set of supported modes varies per environment. (And some\n",
      " |      third-party environments may not support rendering at all.)\n",
      " |      By convention, if mode is:\n",
      " |      \n",
      " |      - human: render to the current display or terminal and\n",
      " |        return nothing. Usually for human consumption.\n",
      " |      - rgb_array: Return an numpy.ndarray with shape (x, y, 3),\n",
      " |        representing RGB values for an x-by-y pixel image, suitable\n",
      " |        for turning into a video.\n",
      " |      - ansi: Return a string (str) or StringIO.StringIO containing a\n",
      " |        terminal-style text representation. The text can include newlines\n",
      " |        and ANSI escape sequences (e.g. for colors).\n",
      " |      \n",
      " |      Note:\n",
      " |          Make sure that your class's metadata 'render_modes' key includes\n",
      " |            the list of supported modes. It's recommended to call super()\n",
      " |            in implementations to use the functionality of this method.\n",
      " |      \n",
      " |      Args:\n",
      " |          mode (str): the mode to render with\n",
      " |      \n",
      " |      Example:\n",
      " |      \n",
      " |      class MyEnv(Env):\n",
      " |          metadata = {'render_modes': ['human', 'rgb_array']}\n",
      " |      \n",
      " |          def render(self, mode='human'):\n",
      " |              if mode == 'rgb_array':\n",
      " |                  return np.array(...) # return RGB frame suitable for video\n",
      " |              elif mode == 'human':\n",
      " |                  ... # pop up a window and render\n",
      " |              else:\n",
      " |                  super(MyEnv, self).render(mode=mode) # just raise an exception\n",
      " |  \n",
      " |  reset(self, *, seed: Optional[int] = None, return_info: bool = False, options: Optional[dict] = None)\n",
      " |      Resets the environment to an initial state and returns an initial\n",
      " |      observation.\n",
      " |      \n",
      " |      This method should also reset the environment's random number\n",
      " |      generator(s) if `seed` is an integer or if the environment has not\n",
      " |      yet initialized a random number generator. If the environment already\n",
      " |      has a random number generator and `reset` is called with `seed=None`,\n",
      " |      the RNG should not be reset.\n",
      " |      Moreover, `reset` should (in the typical use case) be called with an\n",
      " |      integer seed right after initialization and then never again.\n",
      " |      \n",
      " |      Returns:\n",
      " |          observation (object): the initial observation.\n",
      " |          info (optional dictionary): a dictionary containing extra information, this is only returned if return_info is set to true\n",
      " |  \n",
      " |  step(self, a)\n",
      " |      Run one timestep of the environment's dynamics. When end of\n",
      " |      episode is reached, you are responsible for calling `reset()`\n",
      " |      to reset this environment's state.\n",
      " |      \n",
      " |      Accepts an action and returns a tuple (observation, reward, done, info).\n",
      " |      \n",
      " |      Args:\n",
      " |          action (object): an action provided by the agent\n",
      " |      \n",
      " |      Returns:\n",
      " |          observation (object): agent's observation of the current environment\n",
      " |          reward (float) : amount of reward returned after previous action\n",
      " |          done (bool): whether the episode has ended, in which case further step() calls will return undefined results\n",
      " |          info (dict): contains auxiliary diagnostic information (helpful for debugging, logging, and sometimes learning)\n",
      " |  \n",
      " |  ----------------------------------------------------------------------\n",
      " |  Data and other attributes defined here:\n",
      " |  \n",
      " |  __parameters__ = ()\n",
      " |  \n",
      " |  metadata = {'render_fps': 4, 'render_modes': ['human', 'ansi']}\n",
      " |  \n",
      " |  ----------------------------------------------------------------------\n",
      " |  Methods inherited from gym.core.Env:\n",
      " |  \n",
      " |  __enter__(self)\n",
      " |      Support with-statement for the environment.\n",
      " |  \n",
      " |  __exit__(self, *args)\n",
      " |      Support with-statement for the environment.\n",
      " |  \n",
      " |  __str__(self)\n",
      " |      Return str(self).\n",
      " |  \n",
      " |  close(self)\n",
      " |      Override close in your subclass to perform any necessary cleanup.\n",
      " |      \n",
      " |      Environments will automatically close() themselves when\n",
      " |      garbage collected or when the program exits.\n",
      " |  \n",
      " |  seed(self, seed=None)\n",
      " |      Sets the seed for this env's random number generator(s).\n",
      " |      \n",
      " |      Note:\n",
      " |          Some environments use multiple pseudorandom number generators.\n",
      " |          We want to capture all such seeds used in order to ensure that\n",
      " |          there aren't accidental correlations between multiple generators.\n",
      " |      \n",
      " |      Returns:\n",
      " |          list<bigint>: Returns the list of seeds used in this env's random\n",
      " |            number generators. The first value in the list should be the\n",
      " |            \"main\" seed, or the value which a reproducer should pass to\n",
      " |            'seed'. Often, the main seed equals the provided 'seed', but\n",
      " |            this won't be true if seed=None, for example.\n",
      " |  \n",
      " |  ----------------------------------------------------------------------\n",
      " |  Readonly properties inherited from gym.core.Env:\n",
      " |  \n",
      " |  unwrapped\n",
      " |      Completely unwrap this env.\n",
      " |      \n",
      " |      Returns:\n",
      " |          gym.Env: The base non-wrapped gym.Env instance\n",
      " |  \n",
      " |  ----------------------------------------------------------------------\n",
      " |  Data descriptors inherited from gym.core.Env:\n",
      " |  \n",
      " |  __dict__\n",
      " |      dictionary for instance variables (if defined)\n",
      " |  \n",
      " |  __weakref__\n",
      " |      list of weak references to the object (if defined)\n",
      " |  \n",
      " |  np_random\n",
      " |      Initializes the np_random field if not done already.\n",
      " |  \n",
      " |  ----------------------------------------------------------------------\n",
      " |  Data and other attributes inherited from gym.core.Env:\n",
      " |  \n",
      " |  __annotations__ = {'_np_random': 'RandomNumberGenerator | None', 'acti...\n",
      " |  \n",
      " |  __orig_bases__ = (typing.Generic[~ObsType, ~ActType],)\n",
      " |  \n",
      " |  reward_range = (-inf, inf)\n",
      " |  \n",
      " |  spec = None\n",
      " |  \n",
      " |  ----------------------------------------------------------------------\n",
      " |  Class methods inherited from typing.Generic:\n",
      " |  \n",
      " |  __class_getitem__(params) from builtins.type\n",
      " |  \n",
      " |  __init_subclass__(*args, **kwargs) from builtins.type\n",
      " |      This method is called when a class is subclassed.\n",
      " |      \n",
      " |      The default implementation does nothing. It may be\n",
      " |      overridden to extend subclasses.\n",
      "\n"
     ]
    }
   ],
   "source": [
    "# Full info on the default implementation\n",
    "help(env.unwrapped)"
   ]
  },
  {
   "cell_type": "code",
   "execution_count": 25,
   "metadata": {},
   "outputs": [
    {
     "data": {
      "application/vnd.jupyter.widget-view+json": {
       "model_id": "1ec17d6e6f75484983ba9a33877542c7",
       "version_major": 2,
       "version_minor": 0
      },
      "text/plain": [
       "  0%|          | 0/10000 [00:00<?, ?it/s]"
      ]
     },
     "metadata": {},
     "output_type": "display_data"
    }
   ],
   "source": [
    "# Def hyperparams\n",
    "alpha = 0.1\n",
    "gamma = 0.7\n",
    "epsilon = 0.05\n",
    "\n",
    "# Modify rewards\n",
    "class RewardPolicyWrapper(gym.Wrapper):\n",
    "    def __init__(self, env: env):\n",
    "        super().__init__(env)\n",
    "        self.env = env\n",
    "    \n",
    "    # Override step update\n",
    "    def step(self, action):\n",
    "        # Get original output\n",
    "        next_state, reward, done, info = self.env.step(action)\n",
    "\n",
    "        # Get current state\n",
    "        tx, ty, p, dst = list(self.env.decode(self.env.s))\n",
    "\n",
    "        # Destinations \n",
    "        dst_dict = {0: (0, 0), 1: (0, 4), 2: (4, 0), 3: (4, 3)}\n",
    "\n",
    "        # Define rewards\n",
    "        r = -1\n",
    "\n",
    "        # Drop off penalties\n",
    "        if (action == 5):\n",
    "            # No passenger\n",
    "            if (p != 4): r = -10\n",
    "\n",
    "            # No destination\n",
    "            elif ((tx, ty) != dst_dict[dst]): r = -10\n",
    "\n",
    "            # Passenger & correct destination\n",
    "            else: r = 20\n",
    "\n",
    "\n",
    "        # Pickup with passenger\n",
    "        if (action == 4):\n",
    "            # We already have a passenger\n",
    "            if (p == 4): r = -10\n",
    "\n",
    "            # Not at passenger location\n",
    "            elif ((tx, ty) != dst_dict[p]): r = -10\n",
    "\n",
    "            # Pickup at location\n",
    "            else: r = 10\n",
    "\n",
    "\n",
    "        return next_state, r, done, info\n",
    "\n",
    "# Define new environment\n",
    "#env = RewardPolicyWrapper(gym.make(\"Taxi-v3\"))\n",
    "env = gym.make(\"Taxi-v3\")\n",
    "\n",
    "# Init qtable\n",
    "q_table = np.zeros([env.observation_space.n, env.action_space.n])\n",
    "\n",
    "# Episode done flag --> Whenever we have a successful drop\n",
    "done = False\n",
    "q_mean = []\n",
    "r_mean = []\n",
    "p_cnt = []\n",
    "\n",
    "for e in trange(10000):\n",
    "    # Reset environment\n",
    "    state = env.reset()\n",
    "    done = False\n",
    "\n",
    "    # Metrics\n",
    "    p = 0\n",
    "    r = []\n",
    "\n",
    "    while not done:\n",
    "        if np.random.uniform(0, 1) < epsilon:\n",
    "            # Pick random action\n",
    "            action = env.action_space.sample()\n",
    "        else:\n",
    "            # Pick optimal action\n",
    "            action = np.argmax(q_table[state])\n",
    "\n",
    "        # Perform action\n",
    "        next_state, reward, done, info = env.step(action)\n",
    "\n",
    "        # Update Q\n",
    "        curr_Q = q_table[state, action]\n",
    "        next_max_Q = np.max(q_table[next_state])\n",
    "        q_table[state, action]  = (1 - alpha) * curr_Q + alpha * (reward + gamma * next_max_Q)\n",
    "\n",
    "        # Update state\n",
    "        state = next_state\n",
    "\n",
    "        # Metrics\n",
    "        if reward == -10: p += 1\n",
    "        r += [reward]\n",
    "    \n",
    "    # Append metrics\n",
    "    p_cnt += [[e, p]]\n",
    "    q_mean += [[e, q_table[np.where(q_table != 0)].mean()]]\n",
    "    r_mean += [[e, np.mean(r)]]\n",
    "\n",
    "p_cnt = np.array(p_cnt)\n",
    "q_mean = np.array(q_mean)\n",
    "r_mean = np.array(r_mean)"
   ]
  },
  {
   "cell_type": "code",
   "execution_count": 26,
   "metadata": {},
   "outputs": [
    {
     "name": "stderr",
     "output_type": "stream",
     "text": [
      "/tmp/ipykernel_70574/681480000.py:6: UserWarning: Matplotlib is currently using module://matplotlib_inline.backend_inline, which is a non-GUI backend, so cannot show the figure.\n",
      "  fig.show()\n"
     ]
    },
    {
     "data": {
      "image/png": "[encoded data removed]",
      "text/plain": [
       "<Figure size 2160x576 with 3 Axes>"
      ]
     },
     "metadata": {
      "needs_background": "light"
     },
     "output_type": "display_data"
    }
   ],
   "source": [
    "fig, axs = plt.subplots(1, 3, figsize=(30, 8))\n",
    "axs[0].plot(p_cnt[:, 0], p_cnt[:, 1])\n",
    "axs[1].plot(q_mean[:, 0], q_mean[:, 1])\n",
    "axs[2].plot(r_mean[:, 0], r_mean[:, 1])\n",
    "\n",
    "fig.show()"
   ]
  },
  {
   "cell_type": "code",
   "execution_count": 31,
   "metadata": {},
   "outputs": [],
   "source": [
    "# Def env\n",
    "env = gym.make(\"Taxi-v3\")\n",
    "video_recorder = VideoRecorder(env, \"./videos/q_agent.json\", enabled=True)\n",
    "\n",
    "# Init state\n",
    "state = env.reset()\n",
    "\n",
    "done = False\n",
    "while not done:\n",
    "    # Record video\n",
    "    video_recorder.capture_frame()\n",
    "    \n",
    "    # Take optimal action\n",
    "    action = np.argmax(q_table[state])\n",
    "\n",
    "    # Step\n",
    "    state, reward, done, info = env.step(action)\n",
    "\n",
    "# End taxi instance\n",
    "env.close()"
   ]
  },
  {
   "cell_type": "code",
   "execution_count": null,
   "metadata": {},
   "outputs": [],
   "source": []
  }
 ],
 "metadata": {
  "kernelspec": {
   "display_name": "Python 3.10.4 64-bit",
   "language": "python",
   "name": "python3"
  },
  "language_info": {
   "codemirror_mode": {
    "name": "ipython",
    "version": 3
   },
   "file_extension": ".py",
   "mimetype": "text/x-python",
   "name": "python",
   "nbconvert_exporter": "python",
   "pygments_lexer": "ipython3",
   "version": "3.10.4"
  },
  "orig_nbformat": 4,
  "vscode": {
   "interpreter": {
    "hash": "916dbcbb3f70747c44a77c7bcd40155683ae19c65e1c03b4aa3499c5328201f1"
   }
  }
 },
 "nbformat": 4,
 "nbformat_minor": 2
}
