{
 "cells": [
  {
   "cell_type": "markdown",
   "metadata": {},
   "source": [
    "# Cart Pole using REINFORCE with BASELINES"
   ]
  },
  {
   "cell_type": "code",
   "execution_count": 2,
   "metadata": {},
   "outputs": [
    {
     "name": "stderr",
     "output_type": "stream",
     "text": [
      "2022-11-04 03:02:21.390143: I tensorflow/core/platform/cpu_feature_guard.cc:193] This TensorFlow binary is optimized with oneAPI Deep Neural Network Library (oneDNN) to use the following CPU instructions in performance-critical operations:  AVX2 AVX_VNNI FMA\n",
      "To enable them in other operations, rebuild TensorFlow with the appropriate compiler flags.\n",
      "2022-11-04 03:02:21.483468: I tensorflow/core/util/util.cc:169] oneDNN custom operations are on. You may see slightly different numerical results due to floating-point round-off errors from different computation orders. To turn them off, set the environment variable `TF_ENABLE_ONEDNN_OPTS=0`.\n",
      "2022-11-04 03:02:21.503667: E tensorflow/stream_executor/cuda/cuda_blas.cc:2981] Unable to register cuBLAS factory: Attempting to register factory for plugin cuBLAS when one has already been registered\n",
      "2022-11-04 03:02:21.910142: W tensorflow/stream_executor/platform/default/dso_loader.cc:64] Could not load dynamic library 'libnvinfer.so.7'; dlerror: libnvinfer.so.7: cannot open shared object file: No such file or directory; LD_LIBRARY_PATH: /home/main/anaconda3/envs/rlenv/lib/python3.8/site-packages/cv2/../../lib64::/home/main/anaconda3/envs/rlenv/lib/\n",
      "2022-11-04 03:02:21.910184: W tensorflow/stream_executor/platform/default/dso_loader.cc:64] Could not load dynamic library 'libnvinfer_plugin.so.7'; dlerror: libnvinfer_plugin.so.7: cannot open shared object file: No such file or directory; LD_LIBRARY_PATH: /home/main/anaconda3/envs/rlenv/lib/python3.8/site-packages/cv2/../../lib64::/home/main/anaconda3/envs/rlenv/lib/\n",
      "2022-11-04 03:02:21.910187: W tensorflow/compiler/tf2tensorrt/utils/py_utils.cc:38] TF-TRT Warning: Cannot dlopen some TensorRT libraries. If you would like to use Nvidia GPU with TensorRT, please make sure the missing libraries mentioned above are installed properly.\n"
     ]
    }
   ],
   "source": [
    "# Full imports\n",
    "import gym\n",
    "import mlflow\n",
    "\n",
    "# Aliased imports\n",
    "import tensorflow as tf\n",
    "import tensorflow_probability as tfp\n",
    "import numpy as np\n",
    "import pandas as pd\n",
    "import matplotlib.pyplot as plt\n",
    "import plotly.graph_objects as go\n",
    "import plotly.express as px\n",
    "\n",
    "# Partial Import\n",
    "from gym.wrappers.monitoring.video_recorder import VideoRecorder\n",
    "from tqdm.notebook import tqdm, trange\n",
    "from IPython.display import clear_output\n",
    "from collections import namedtuple"
   ]
  },
  {
   "cell_type": "code",
   "execution_count": 2,
   "metadata": {},
   "outputs": [
    {
     "name": "stderr",
     "output_type": "stream",
     "text": [
      "2022-11-03 19:11:22.274355: I tensorflow/stream_executor/cuda/cuda_gpu_executor.cc:980] successful NUMA node read from SysFS had negative value (-1), but there must be at least one NUMA node, so returning NUMA node zero\n",
      "2022-11-03 19:11:22.277582: I tensorflow/stream_executor/cuda/cuda_gpu_executor.cc:980] successful NUMA node read from SysFS had negative value (-1), but there must be at least one NUMA node, so returning NUMA node zero\n",
      "2022-11-03 19:11:22.277700: I tensorflow/stream_executor/cuda/cuda_gpu_executor.cc:980] successful NUMA node read from SysFS had negative value (-1), but there must be at least one NUMA node, so returning NUMA node zero\n"
     ]
    },
    {
     "data": {
      "text/plain": [
       "[PhysicalDevice(name='/physical_device:GPU:0', device_type='GPU')]"
      ]
     },
     "execution_count": 2,
     "metadata": {},
     "output_type": "execute_result"
    }
   ],
   "source": [
    "# Remember to export to export \"LD_LIBRARY_PATH=$LD_LIBRARY_PATH:$CONDA_PREFIX/lib/\"\" if using linux\n",
    "# Drop numa errors in term: \"for a in /sys/bus/pci/devices/*; do echo 0 | sudo tee -a $a/numa_node; done\"\n",
    "\n",
    "\n",
    "# We have GPU\n",
    "tf.config.list_physical_devices('GPU')"
   ]
  },
  {
   "cell_type": "markdown",
   "metadata": {},
   "source": [
    "The function we need to update when using REINFORCE algorithm is:\n",
    "$$\n",
    "    \\nabla_{\\theta} J(\\theta) = \\sum_{t=0}^{T - 1} \\nabla_{\\theta}\\log\\pi_{\\theta}(a_t|s_t)G_t\n",
    "$$\n",
    "\n",
    "Thus,\n",
    "\n",
    "$$\n",
    "    \\theta \\leftarrow \\theta + \\nabla_{\\theta}\\log\\pi_{\\theta}(a_t|s_t)G_t\n",
    "$$"
   ]
  },
  {
   "cell_type": "markdown",
   "metadata": {},
   "source": [
    "The problem with this approach is that policy gradients are relatively unstable and introduce a lot variacen due to the differnt state-rewards that the system \n",
    "observes. To fix this we'll substract a given baseline $b(s_t)$ from the expected returns, thus our original equation becomes:\n",
    "$$\n",
    "    \\theta \\leftarrow \\theta + \\nabla_{\\theta}\\log\\pi_{\\theta}(a_t|s_t) \\left( G_t - b(s_t) \\right) \n",
    "$$\n",
    "\n",
    "Where $A(s_t) = G_t - b(s_t)$ is the advantage."
   ]
  },
  {
   "cell_type": "code",
   "execution_count": 3,
   "metadata": {},
   "outputs": [],
   "source": [
    "# CONSTS\n",
    "VIEW_RANDOM = False\n",
    "DEFAULT_ENV = \"CartPole-v1\"\n",
    "EXPERIMENT_NAME = \"cart_pole_baseline\"\n",
    "TAGS = {\n",
    "    \"type\": \"RL\",\n",
    "    \"env\": \"Discrete Cart Pole\",\n",
    "    \"algorithm\": \"REINFORCE\",\n",
    "    \"sub-algorithm\": \"Learned Baseline\"\n",
    "}"
   ]
  },
  {
   "cell_type": "code",
   "execution_count": 4,
   "metadata": {},
   "outputs": [],
   "source": [
    "# Default env\n",
    "env = gym.make(DEFAULT_ENV)"
   ]
  },
  {
   "cell_type": "code",
   "execution_count": 5,
   "metadata": {},
   "outputs": [],
   "source": [
    "# Init mlflow\n",
    "exp_exists = mlflow.get_experiment_by_name(EXPERIMENT_NAME)\n",
    "\n",
    "if not exp_exists:\n",
    "    mlflow.create_experiment(EXPERIMENT_NAME, tags=TAGS)\n",
    "else:\n",
    "    mlflow.set_experiment(EXPERIMENT_NAME)"
   ]
  },
  {
   "cell_type": "code",
   "execution_count": 12,
   "metadata": {},
   "outputs": [
    {
     "name": "stdout",
     "output_type": "stream",
     "text": [
      "/bin/bash: /home/main/anaconda3/envs/rlenv/lib/libtinfo.so.6: no version information available (required by /bin/bash)\n",
      "/bin/bash: /home/main/anaconda3/envs/rlenv/lib/libtinfo.so.6: no version information available (required by /bin/bash)\n"
     ]
    }
   ],
   "source": [
    "%mkdir -p data\n",
    "%mkdir -p plots"
   ]
  },
  {
   "cell_type": "markdown",
   "metadata": {},
   "source": [
    "## Implementing REINFORCE"
   ]
  },
  {
   "cell_type": "code",
   "execution_count": 139,
   "metadata": {},
   "outputs": [],
   "source": [
    "class PolicyNet():\n",
    "    def __init__(self, env, lr=1e-3) -> None:\n",
    "        # Define model\n",
    "        self.model = tf.keras.Sequential([\n",
    "            tf.keras.Input(shape=(env.observation_space.shape[0],)),\n",
    "            tf.keras.layers.Dense(16, activation=\"relu\"),\n",
    "            tf.keras.layers.Dense(32, activation=\"relu\"),\n",
    "            tf.keras.layers.Dense(env.action_space.n, activation=\"softmax\")\n",
    "        ])\n",
    "\n",
    "        # Define optimizer\n",
    "        self.optimizer = tf.keras.optimizers.Adam(learning_rate=lr)\n",
    "\n",
    "    def build_distribution(self, states):\n",
    "        # Get logits\n",
    "        p = self.model(states)\n",
    "\n",
    "        return tfp.distributions.Categorical(probs=p, dtype=tf.float32)\n",
    "\n",
    "    def sample_action(self, states):\n",
    "        # Get distribution\n",
    "        dist = self.build_distribution(states)\n",
    "        actions = dist.sample().numpy().astype(int)\n",
    "        \n",
    "        # If we only have one action, return an int\n",
    "        return actions[0] if len(actions) == 1 else actions\n",
    "    \n",
    "    @tf.function(reduce_retracing=True)\n",
    "    def train(self, states, actions, advantages):\n",
    "        # Get batch size\n",
    "        batch_size = 1.0 / tf.cast(tf.size(states), tf.float32)\n",
    "\n",
    "        # Compute loss\n",
    "        with tf.GradientTape() as tape:\n",
    "            loss = self.build_distribution(states).log_prob(actions) * advantages\n",
    "            loss = -tf.reduce_sum(loss) * batch_size\n",
    "        \n",
    "        # Apply gradients\n",
    "        grads = tape.gradient(loss, self.model.trainable_variables)\n",
    "        self.optimizer.apply_gradients(zip(grads, self.model.trainable_variables))"
   ]
  },
  {
   "cell_type": "code",
   "execution_count": 140,
   "metadata": {},
   "outputs": [],
   "source": [
    "class BaselineNet():\n",
    "    def __init__(self, env, lr=1e-3) -> None:\n",
    "        # Define model\n",
    "        self.model = tf.keras.Sequential([\n",
    "            tf.keras.Input(shape=(env.observation_space.shape[0],)),\n",
    "            tf.keras.layers.Dense(32, activation=\"relu\"),\n",
    "            tf.keras.layers.Dense(16, activation=\"relu\"),\n",
    "            tf.keras.layers.Dense(1, activation=\"linear\")\n",
    "        ])\n",
    "\n",
    "        # Define optimizer\n",
    "        self.optimizer = tf.keras.optimizers.Adam(learning_rate=lr)\n",
    "    \n",
    "    def predict(self, states):\n",
    "        return tf.squeeze(self.model(np.atleast_2d(states)))\n",
    "    \n",
    "    def advantage(self, states, returns):\n",
    "        adv = returns - self.predict(states).numpy()\n",
    "        \n",
    "        # Whitening of advantages to improve statbility\n",
    "        return (adv - adv.mean()) / adv.std()\n",
    "\n",
    "    \n",
    "    @tf.function(reduce_retracing=True)\n",
    "    def train(self, states, returns):\n",
    "        with tf.GradientTape() as tape:\n",
    "            loss = tf.keras.losses.mean_squared_error(returns, self.model(states))\n",
    "        \n",
    "        # Apply gradients\n",
    "        grads = tape.gradient(loss, self.model.trainable_variables)\n",
    "        self.optimizer.apply_gradients(zip(grads, self.model.trainable_variables))"
   ]
  },
  {
   "cell_type": "code",
   "execution_count": 141,
   "metadata": {},
   "outputs": [],
   "source": [
    "Experience = namedtuple(\"Experience\", field_names=[\"state\", \"action\", \"reward\", \"new_state\", \"done\"])\n",
    "\n",
    "class Agent:\n",
    "    def __init__(self, env, gamma, policy_lr=1e-3, baseline_lr=1e-3) -> None:\n",
    "        # Init private vars\n",
    "        self._policy = PolicyNet(env, policy_lr)\n",
    "        self._baseline = BaselineNet(env, baseline_lr)\n",
    "        self._env = env\n",
    "        self._gamma = gamma\n",
    "\n",
    "        # Init state vars\n",
    "        self.reset()\n",
    "\n",
    "        # Init buffers\n",
    "        self._experience_buffer = []\n",
    "\n",
    "    def reset(self) -> None:\n",
    "        # Reset state and experience buffer\n",
    "        self._state, _ = self._env.reset()\n",
    "        self._experience_buffer = []\n",
    "\n",
    "    def step(self):\n",
    "        action = self._policy.sample_action(np.atleast_2d(self._state))\n",
    "        new_state, reward, done, _, _ = self._env.step(action)\n",
    "\n",
    "        # Add to experience buffer\n",
    "        self._experience_buffer.append(Experience(self._state, action, reward, new_state, done))\n",
    "        \n",
    "        # Update state\n",
    "        self._state = new_state\n",
    "        \n",
    "        # Return\n",
    "        return self._state, reward, done\n",
    "\n",
    "\n",
    "    def train(self):\n",
    "        # Vectorize transitions\n",
    "        experiences = pd.DataFrame(self._experience_buffer)\n",
    "        \n",
    "        t = np.arange(len(self._experience_buffer))\n",
    "        r = experiences.reward * self._gamma ** t\n",
    "        expected_returns = r[::-1].cumsum()[::-1] / (self._gamma ** t)\n",
    "        \n",
    "\n",
    "        # Compute G_t\n",
    "        \"\"\"\n",
    "        expected_returns = []\n",
    "        for i in range(len(self._experience_buffer)):\n",
    "            gt = pw = 0\n",
    "            for j in range(i, len(self._experience_buffer)):\n",
    "                gt += (self._gamma ** pw) * self._experience_buffer[j].reward\n",
    "                pw += 1\n",
    "            \n",
    "            # Save expected returns\n",
    "            expected_returns.append(gt)\n",
    "        \"\"\"\n",
    "\n",
    "        \n",
    "        # Normalize returns for numerical statbility\n",
    "        expected_returns = np.array(expected_returns).astype(np.float32)\n",
    "        \n",
    "        # Get vars\n",
    "        states = np.stack(experiences.state.to_numpy()).astype(np.float32)\n",
    "        actions = experiences.action.to_numpy().astype(np.float32)\n",
    "        advantages = self._baseline.advantage(states, expected_returns)\n",
    "\n",
    "        # Train policy\n",
    "        self._baseline.train(states, expected_returns)\n",
    "        self._policy.train(states, actions, advantages)\n",
    "        \n",
    "        \n",
    "    \n",
    "    def get_experience_buffer(self):\n",
    "        return pd.DataFrame(self._experience_buffer)\n"
   ]
  },
  {
   "cell_type": "code",
   "execution_count": 148,
   "metadata": {},
   "outputs": [
    {
     "data": {
      "application/vnd.jupyter.widget-view+json": {
       "model_id": "de8f584d21904eb1966ce90d71cd5318",
       "version_major": 2,
       "version_minor": 0
      },
      "text/plain": [
       "  0%|          | 0/10000 [00:00<?, ?it/s]"
      ]
     },
     "metadata": {},
     "output_type": "display_data"
    },
    {
     "name": "stdout",
     "output_type": "stream",
     "text": [
      "Training stopped...\n"
     ]
    }
   ],
   "source": [
    "# Define main training loop and start run\n",
    "mlflow.end_run()\n",
    "mlflow.start_run(tags=TAGS)\n",
    "\n",
    "# Define constants\n",
    "DEFAULT_ENV = \"CartPole-v1\"\n",
    "N_EPISODES = 10000\n",
    "N_STEPS = 500\n",
    "\n",
    "# Define parameters\n",
    "GAMMA = 0.999\n",
    "POLICY_LR = 2e-3\n",
    "BASELINE_LR = 2e-3\n",
    "\n",
    "# Log params\n",
    "mlflow.log_param(\"ENV\", DEFAULT_ENV)\n",
    "mlflow.log_param(\"N_EPISODES\", N_EPISODES)\n",
    "mlflow.log_param(\"N_STEPS\", N_STEPS)\n",
    "mlflow.log_param(\"GAMMA\", GAMMA)\n",
    "mlflow.log_param(\"POLICY_LR\", POLICY_LR)\n",
    "mlflow.log_param(\"BASELINE_LR\", BASELINE_LR)\n",
    "\n",
    "# Define enb\n",
    "env = gym.make(DEFAULT_ENV)\n",
    "\n",
    "# Define agent\n",
    "agent = Agent(env, GAMMA, POLICY_LR, BASELINE_LR)\n",
    "\n",
    "# Log nets model schema\n",
    "tf.keras.utils.plot_model(agent._baseline.model, \"plots/baseline.png\", show_shapes=True, show_layer_activations=True)\n",
    "tf.keras.utils.plot_model(agent._policy.model, \"plots/policy.png\", show_shapes=True, show_layer_activations=True)\n",
    "\n",
    "mlflow.log_artifact(\"plots/baseline.png\", \"model_schemas\")\n",
    "mlflow.log_artifact(\"plots/policy.png\", \"model_schemas\")\n",
    "\n",
    "# Aux monitor \n",
    "data = []\n",
    "\n",
    "# Start training\n",
    "try:\n",
    "    for e in (tbar := trange(N_EPISODES)):\n",
    "        # Init agent\n",
    "        agent.reset()\n",
    "        done = False\n",
    "\n",
    "        # Gather experiences\n",
    "        for _ in range(N_STEPS):\n",
    "            s, r, done = agent.step()\n",
    "\n",
    "            # Stop if failed\n",
    "            if done: break\n",
    "\n",
    "        # Update current rewards\n",
    "        total_reward = agent.get_experience_buffer().reward.sum()\n",
    "        tbar.set_description(f\"Total reward: {total_reward: 0.3}\")\n",
    "        tbar.refresh()\n",
    "\n",
    "        # Save metrics\n",
    "        data.append({\n",
    "            \"e\": e,\n",
    "            \"r\": total_reward\n",
    "        })\n",
    "\n",
    "        # Log metrics\n",
    "        mlflow.log_metric(key=\"reward\", step=e, value=total_reward)\n",
    "        \n",
    "        # Train agent\n",
    "        agent.train()\n",
    "    mlflow.end_run(\"FINISHED\")\n",
    "\n",
    "except KeyboardInterrupt:\n",
    "    print(\"Training stopped...\")\n",
    "    mlflow.end_run(\"KILLED\")\n"
   ]
  },
  {
   "cell_type": "code",
   "execution_count": null,
   "metadata": {},
   "outputs": [],
   "source": [
    "# Make pd\n",
    "data_pd = pd.DataFrame(data)\n",
    "\n",
    "# Compute confidence intervals \n",
    "data_pd = (data_pd\n",
    "    .assign(roll_avg_r=lambda x: x.r.rolling(50).mean())\n",
    "    .assign(roll_std_r=lambda x: x.r.rolling(50).std())\n",
    "    .assign(upper_r=lambda x: x.roll_avg_r + 1.96 * x.roll_std_r)\n",
    "    .assign(lower_r=lambda x: x.roll_avg_r - 1.96 * x.roll_std_r)\n",
    ")\n",
    "data_pd.to_csv(\"data/vanilla.csv\")\n",
    "\n",
    "\n",
    "# Plot\n",
    "fig = go.Figure()\n",
    "\n",
    "# Add traces\n",
    "fig.add_trace(\n",
    "    go.Scatter(x=data_pd.e, y=data_pd.roll_avg_r, mode=\"lines\", name=\"Reward\")\n",
    ")\n",
    "\n",
    "fig.add_trace(\n",
    "    go.Scatter(x=data_pd.e, \n",
    "               y=data_pd.upper_r,\n",
    "               marker=dict(color=\"#444\"),\n",
    "               line=dict(width=0),\n",
    "               mode=\"lines\", \n",
    "               name=\"Roll. Avg. Reward\",\n",
    "               showlegend=False)\n",
    ")\n",
    "\n",
    "fig.add_trace(\n",
    "    go.Scatter(x=data_pd.e, \n",
    "               y=data_pd.lower_r,\n",
    "               fillcolor='rgba(68, 68, 68, 0.3)',\n",
    "               marker=dict(color=\"#444\"),\n",
    "               line=dict(width=0),\n",
    "               fill='tonexty',\n",
    "               mode=\"lines\", \n",
    "               name=\"Roll. Avg. Reward\",\n",
    "               showlegend=False)\n",
    ")\n",
    "\n",
    "\n",
    "# Update fig optiosn\n",
    "fig.update_layout(\n",
    "    template=\"plotly_white\",\n",
    "    margin=dict(l=20, r=20, t=20, b=20),\n",
    "    xaxis_title=\"Episode\",\n",
    "    yaxis_title=\"Reward\"\n",
    ")\n",
    "\n",
    "fig.show()"
   ]
  },
  {
   "cell_type": "code",
   "execution_count": 3,
   "metadata": {},
   "outputs": [
    {
     "data": {
      "text/plain": [
       "array([0.99    , 0.9801  , 0.970299])"
      ]
     },
     "execution_count": 3,
     "metadata": {},
     "output_type": "execute_result"
    }
   ],
   "source": [
    "0.99 ** np.array([1, 2, 3])"
   ]
  },
  {
   "cell_type": "code",
   "execution_count": null,
   "metadata": {},
   "outputs": [],
   "source": []
  }
 ],
 "metadata": {
  "kernelspec": {
   "display_name": "Python 3.8.13 ('rlenv')",
   "language": "python",
   "name": "python3"
  },
  "language_info": {
   "codemirror_mode": {
    "name": "ipython",
    "version": 3
   },
   "file_extension": ".py",
   "mimetype": "text/x-python",
   "name": "python",
   "nbconvert_exporter": "python",
   "pygments_lexer": "ipython3",
   "version": "3.8.13"
  },
  "orig_nbformat": 4,
  "vscode": {
   "interpreter": {
    "hash": "4bc5bdd1f96b0bfe1b0a7578d394c815a18b7bbf3d83f21c57372441a2e86538"
   }
  }
 },
 "nbformat": 4,
 "nbformat_minor": 2
}
