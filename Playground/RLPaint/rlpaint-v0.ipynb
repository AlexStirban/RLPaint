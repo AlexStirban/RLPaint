{
 "cells": [
  {
   "cell_type": "markdown",
   "metadata": {},
   "source": [
    "# A2C Model for RLPaint"
   ]
  },
  {
   "cell_type": "markdown",
   "metadata": {},
   "source": [
    "## Imports"
   ]
  },
  {
   "cell_type": "code",
   "execution_count": 1,
   "metadata": {},
   "outputs": [
    {
     "name": "stderr",
     "output_type": "stream",
     "text": [
      "2023-01-16 23:25:58.173776: I tensorflow/core/platform/cpu_feature_guard.cc:193] This TensorFlow binary is optimized with oneAPI Deep Neural Network Library (oneDNN) to use the following CPU instructions in performance-critical operations:  AVX2 AVX_VNNI FMA\n",
      "To enable them in other operations, rebuild TensorFlow with the appropriate compiler flags.\n",
      "2023-01-16 23:25:58.363236: I tensorflow/core/util/util.cc:169] oneDNN custom operations are on. You may see slightly different numerical results due to floating-point round-off errors from different computation orders. To turn them off, set the environment variable `TF_ENABLE_ONEDNN_OPTS=0`.\n",
      "2023-01-16 23:25:58.409030: E tensorflow/stream_executor/cuda/cuda_blas.cc:2981] Unable to register cuBLAS factory: Attempting to register factory for plugin cuBLAS when one has already been registered\n",
      "2023-01-16 23:26:00.515435: W tensorflow/stream_executor/platform/default/dso_loader.cc:64] Could not load dynamic library 'libnvinfer.so.7'; dlerror: libnvinfer.so.7: cannot open shared object file: No such file or directory; LD_LIBRARY_PATH: /home/main/anaconda3/envs/rlenv/lib/python3.8/site-packages/cv2/../../lib64::/home/main/anaconda3/envs/rlenv/lib/\n",
      "2023-01-16 23:26:00.515660: W tensorflow/stream_executor/platform/default/dso_loader.cc:64] Could not load dynamic library 'libnvinfer_plugin.so.7'; dlerror: libnvinfer_plugin.so.7: cannot open shared object file: No such file or directory; LD_LIBRARY_PATH: /home/main/anaconda3/envs/rlenv/lib/python3.8/site-packages/cv2/../../lib64::/home/main/anaconda3/envs/rlenv/lib/\n",
      "2023-01-16 23:26:00.515682: W tensorflow/compiler/tf2tensorrt/utils/py_utils.cc:38] TF-TRT Warning: Cannot dlopen some TensorRT libraries. If you would like to use Nvidia GPU with TensorRT, please make sure the missing libraries mentioned above are installed properly.\n"
     ]
    }
   ],
   "source": [
    "# Full imports\n",
    "import gym\n",
    "import cv2\n",
    "\n",
    "# Partial imports \n",
    "from tqdm.notebook import tqdm, trange\n",
    "from telesketch.envs.discrete_telesketch import DiscreteTelesketchEnv\n",
    "\n",
    "# Aliased imports\n",
    "import tensorflow as tf\n",
    "import tensorflow.keras as keras\n",
    "import tensorflow_probability as tfp\n",
    "import numpy as np\n",
    "from typing import Any, List, Sequence, Tuple"
   ]
  },
  {
   "cell_type": "markdown",
   "metadata": {},
   "source": [
    "## Bootstrap"
   ]
  },
  {
   "cell_type": "code",
   "execution_count": 2,
   "metadata": {},
   "outputs": [
    {
     "name": "stderr",
     "output_type": "stream",
     "text": [
      "2023-01-16 23:26:04.871535: I tensorflow/stream_executor/cuda/cuda_gpu_executor.cc:980] successful NUMA node read from SysFS had negative value (-1), but there must be at least one NUMA node, so returning NUMA node zero\n",
      "2023-01-16 23:26:04.885888: I tensorflow/stream_executor/cuda/cuda_gpu_executor.cc:980] successful NUMA node read from SysFS had negative value (-1), but there must be at least one NUMA node, so returning NUMA node zero\n",
      "2023-01-16 23:26:04.887770: I tensorflow/stream_executor/cuda/cuda_gpu_executor.cc:980] successful NUMA node read from SysFS had negative value (-1), but there must be at least one NUMA node, so returning NUMA node zero\n"
     ]
    },
    {
     "data": {
      "text/plain": [
       "[PhysicalDevice(name='/physical_device:GPU:0', device_type='GPU')]"
      ]
     },
     "execution_count": 2,
     "metadata": {},
     "output_type": "execute_result"
    }
   ],
   "source": [
    "# Remember to export to export \"LD_LIBRARY_PATH=$LD_LIBRARY_PATH:$CONDA_PREFIX/lib/\"\" if using linux\n",
    "# Drop numa errors in term: \"for a in /sys/bus/pci/devices/*; do echo 0 | sudo tee -a $a/numa_node; done\"\n",
    "\n",
    "# Check if we have GPU\n",
    "tf.config.list_physical_devices('GPU')"
   ]
  },
  {
   "cell_type": "markdown",
   "metadata": {},
   "source": [
    "### Constants"
   ]
  },
  {
   "cell_type": "code",
   "execution_count": 3,
   "metadata": {},
   "outputs": [],
   "source": [
    "# Define min epsilon so we don't run into inf\n",
    "# on divisions\n",
    "EPS = np.finfo(np.float32).eps.item()\n",
    "\n",
    "# Use Huber loss for crisitic as it's less sensitive to outliers than MSE\n",
    "HUBER_LOSS = tf.keras.losses.Huber(reduction=tf.keras.losses.Reduction.SUM)\n",
    "\n",
    "# Define patch size\n",
    "# Must be odd\n",
    "PATCH_SIZE = (31, 31)"
   ]
  },
  {
   "cell_type": "markdown",
   "metadata": {},
   "source": [
    "## Environment Interaction"
   ]
  },
  {
   "cell_type": "code",
   "execution_count": 4,
   "metadata": {},
   "outputs": [],
   "source": [
    "class Trainer:\n",
    "    def __init__(self, env: gym.Env, model: tf.keras.Model, max_steps=300) -> None:\n",
    "        # Make internal copy of params\n",
    "        self._env = env\n",
    "        self._model = model\n",
    "        self._max_steps = max_steps\n",
    "\n",
    "    # Define aux methods for vectorization\n",
    "    def _aux_np_step(self, action: np.ndarray) -> Tuple[np.ndarray, np.ndarray, np.ndarray, np.ndarray, np.ndarray, np.ndarray, np.ndarray]:\n",
    "        state, reward, done, _ = self._env.step(int(action))\n",
    "\n",
    "        return (\n",
    "            state[\"loc\"],\n",
    "            state[\"ref\"].astype(np.float32),\n",
    "            state[\"cnv\"].astype(np.float32),\n",
    "            state[\"ref_patch\"].astype(np.float32),\n",
    "            state[\"cnv_patch\"].astype(np.float32),\n",
    "            np.array(reward, np.float32),\n",
    "            np.array(done, np.int32)\n",
    "        )\n",
    "\n",
    "    def _tf_step(self, action: tf.Tensor) -> List[tf.Tensor]:\n",
    "        return tf.numpy_function(self._aux_np_step, [action], [tf.int32, tf.float32, tf.float32, tf.float32, tf.float32, tf.float32, tf.int32])\n",
    "    \n",
    "\n",
    "    def run_episode():\n",
    "        log_probs = tf.TensorArray(dtype=tf.float32, size=0, dynamic_size=True, clear_after_read=False)\n",
    "        values = tf.TensorArray(dtype=tf.float32, size=0, dynamic_size=True, clear_after_read=False)\n",
    "        rewards = tf.TensorArray(dtype=tf.float32, size=0, dynamic_size=True, clear_after_read=False)\n",
    "\n",
    "        # Init agent and get state\n",
    "        pass\n",
    "        \n",
    "        \n",
    "\n",
    "\n"
   ]
  },
  {
   "cell_type": "code",
   "execution_count": 5,
   "metadata": {},
   "outputs": [],
   "source": [
    "class ActorCritic(tf.keras.Model):\n",
    "    def __init__(self, env: gym.Env) -> None:\n",
    "        # Call super to properly init\n",
    "        super().__init__()\n",
    "\n",
    "        # Define global and local inputs\n",
    "        global_input = env.observation_space[\"cnv\"] + (1,)\n",
    "        local_input = env.observation_space[\"cnv_patch\"] + (1,)\n",
    "        \n",
    "        # Define global ref\n",
    "        gref_input = keras.Input(shape=global_input)\n",
    "        gref_cnn_1 = keras.layers.Conv2D(32, (8, 8))(gref_input)\n",
    "        gref_pool_1 = keras.layers.MaxPool2D((16, 16))(gref_cnn_1)\n",
    "        gref_flatten = keras.layers.Flatten()(gref_pool_1)\n",
    "        gref_out = keras.layers.Dense(8)(gref_flatten)\n",
    "\n",
    "        # Define global canvas\n",
    "        gcnv_input = keras.Input(shape=global_input)\n",
    "        gcnv_cnn_1 = keras.layers.Conv2D(32, (8, 8))(gcnv_input)\n",
    "        gcnv_pool_1 = keras.layers.MaxPool2D((16, 16))(gcnv_cnn_1)\n",
    "        gcnv_flatten = keras.layers.Flatten()(gcnv_pool_1)\n",
    "        gcnv_out = keras.layers.Dense(8)(gcnv_flatten)\n",
    "\n",
    "        # Define local ref\n",
    "        lref_input = keras.Input(shape=local_input)\n",
    "        lref_cnn_1 = keras.layers.Conv2D(32, (8, 8))(lref_input)\n",
    "        lref_flatten = keras.layers.Flatten()(lref_cnn_1)\n",
    "        lref_out = keras.layers.Dense(8)(lref_flatten)\n",
    "\n",
    "        # Define local canvas\n",
    "        lcnv_input = keras.Input(shape=local_input)\n",
    "        lcnv_cnn_1 = keras.layers.Conv2D(32, (8, 8))(lcnv_input)\n",
    "        lcnv_flatten = keras.layers.Flatten()(lcnv_cnn_1)\n",
    "        lcnv_out = keras.layers.Dense(8)(lcnv_flatten)\n",
    "\n",
    "        # Concatenate ref and canvas\n",
    "        conc = keras.layers.Concatenate()([gref_out, gcnv_out, lref_out, lcnv_out])\n",
    "        actor_out = keras.layers.Dense(8)(conc)\n",
    "        critic_out = keras.layers.Dense(1)(conc)\n",
    "\n",
    "        # Define model\n",
    "        self.model = keras.Model([gref_input, gcnv_input, lref_input, lcnv_input], [actor_out, critic_out])\n",
    "        \n",
    "\n",
    "    def call(self, gref: tf.Tensor, gcnv: tf.Tensor, lref: tf.Tensor, lcnv: tf.Tensor) -> Tuple[tf.Tensor, tf.Tensor, tf.Tensor]:\n",
    "        # Expand inputs\n",
    "        inputs = [tf.expand_dims(x, 0) for x in [gref, gcnv, lref, lcnv]]\n",
    "\n",
    "        # Apply model layers\n",
    "        actor_out, value = self.model(inputs)\n",
    "\n",
    "        # Compute distribution of actions for actor and pick one and corresponding log_prob\n",
    "        action_dist = tfp.distributions.Categorical(logits=actor_out, dtype=tf.float32)\n",
    "        action = action_dist.sample()\n",
    "\n",
    "        return action, action_dist.log_prob(action), value\n",
    "        "
   ]
  },
  {
   "cell_type": "code",
   "execution_count": 6,
   "metadata": {},
   "outputs": [],
   "source": [
    "# Ref canvas\n",
    "IMG_SIZE = 256\n",
    "PATCH_SIZE = 16\n",
    "ref_canvas = np.full((IMG_SIZE, IMG_SIZE, 3), 255, dtype=np.uint8)\n",
    "ref_canvas = cv2.line(ref_canvas, (0, 0), (IMG_SIZE, IMG_SIZE), (0, 0, 0), 5)\n",
    "\n",
    "# Sim func\n",
    "def rmse_sim(x, y):\n",
    "    return np.sqrt(np.sum((x - y) ** 2))"
   ]
  },
  {
   "cell_type": "code",
   "execution_count": 7,
   "metadata": {},
   "outputs": [],
   "source": [
    "# Init env\n",
    "env = DiscreteTelesketchEnv(ref_canvas, rmse_sim, 20, 5, patch_size=(PATCH_SIZE, PATCH_SIZE), render_mode=\"image\")\n",
    "x = env.reset()\n"
   ]
  },
  {
   "cell_type": "code",
   "execution_count": 17,
   "metadata": {},
   "outputs": [],
   "source": [
    "trainer = Trainer(env, None, 300)\n",
    "\n",
    "input_step = trainer._tf_step(7)"
   ]
  },
  {
   "cell_type": "code",
   "execution_count": 18,
   "metadata": {},
   "outputs": [
    {
     "data": {
      "text/plain": [
       "[<tf.Tensor: shape=(2,), dtype=int64, numpy=array([14, 14])>,\n",
       " <tf.Tensor: shape=(250, 250), dtype=float32, numpy=\n",
       " array([[0., 0., 0., ..., 1., 1., 1.],\n",
       "        [0., 0., 0., ..., 1., 1., 1.],\n",
       "        [0., 0., 0., ..., 1., 1., 1.],\n",
       "        ...,\n",
       "        [1., 1., 1., ..., 0., 0., 0.],\n",
       "        [1., 1., 1., ..., 0., 0., 0.],\n",
       "        [1., 1., 1., ..., 0., 0., 0.]], dtype=float32)>,\n",
       " <tf.Tensor: shape=(250, 250), dtype=float32, numpy=\n",
       " array([[0., 0., 0., ..., 1., 1., 1.],\n",
       "        [0., 0., 0., ..., 1., 1., 1.],\n",
       "        [0., 0., 0., ..., 1., 1., 1.],\n",
       "        ...,\n",
       "        [1., 1., 1., ..., 1., 1., 1.],\n",
       "        [1., 1., 1., ..., 1., 1., 1.],\n",
       "        [1., 1., 1., ..., 1., 1., 1.]], dtype=float32)>,\n",
       " <tf.Tensor: shape=(25, 25), dtype=float32, numpy=\n",
       " array([[0., 0., 0., 0., 0., 1., 1., 1., 1., 1., 1., 1., 1., 1., 1., 1.,\n",
       "         1., 1., 1., 1., 1., 1., 1., 1., 1.],\n",
       "        [0., 0., 0., 0., 0., 0., 1., 1., 1., 1., 1., 1., 1., 1., 1., 1.,\n",
       "         1., 1., 1., 1., 1., 1., 1., 1., 1.],\n",
       "        [0., 0., 0., 0., 0., 0., 0., 1., 1., 1., 1., 1., 1., 1., 1., 1.,\n",
       "         1., 1., 1., 1., 1., 1., 1., 1., 1.],\n",
       "        [0., 0., 0., 0., 0., 0., 0., 0., 1., 1., 1., 1., 1., 1., 1., 1.,\n",
       "         1., 1., 1., 1., 1., 1., 1., 1., 1.],\n",
       "        [0., 0., 0., 0., 0., 0., 0., 0., 0., 1., 1., 1., 1., 1., 1., 1.,\n",
       "         1., 1., 1., 1., 1., 1., 1., 1., 1.],\n",
       "        [1., 0., 0., 0., 0., 0., 0., 0., 0., 0., 1., 1., 1., 1., 1., 1.,\n",
       "         1., 1., 1., 1., 1., 1., 1., 1., 1.],\n",
       "        [1., 1., 0., 0., 0., 0., 0., 0., 0., 0., 0., 1., 1., 1., 1., 1.,\n",
       "         1., 1., 1., 1., 1., 1., 1., 1., 1.],\n",
       "        [1., 1., 1., 0., 0., 0., 0., 0., 0., 0., 0., 0., 1., 1., 1., 1.,\n",
       "         1., 1., 1., 1., 1., 1., 1., 1., 1.],\n",
       "        [1., 1., 1., 1., 0., 0., 0., 0., 0., 0., 0., 0., 0., 1., 1., 1.,\n",
       "         1., 1., 1., 1., 1., 1., 1., 1., 1.],\n",
       "        [1., 1., 1., 1., 1., 0., 0., 0., 0., 0., 0., 0., 0., 0., 1., 1.,\n",
       "         1., 1., 1., 1., 1., 1., 1., 1., 1.],\n",
       "        [1., 1., 1., 1., 1., 1., 0., 0., 0., 0., 0., 0., 0., 0., 0., 1.,\n",
       "         1., 1., 1., 1., 1., 1., 1., 1., 1.],\n",
       "        [1., 1., 1., 1., 1., 1., 1., 0., 0., 0., 0., 0., 0., 0., 0., 0.,\n",
       "         1., 1., 1., 1., 1., 1., 1., 1., 1.],\n",
       "        [1., 1., 1., 1., 1., 1., 1., 1., 0., 0., 0., 0., 0., 0., 0., 0.,\n",
       "         0., 1., 1., 1., 1., 1., 1., 1., 1.],\n",
       "        [1., 1., 1., 1., 1., 1., 1., 1., 1., 0., 0., 0., 0., 0., 0., 0.,\n",
       "         0., 0., 1., 1., 1., 1., 1., 1., 1.],\n",
       "        [1., 1., 1., 1., 1., 1., 1., 1., 1., 1., 0., 0., 0., 0., 0., 0.,\n",
       "         0., 0., 0., 1., 1., 1., 1., 1., 1.],\n",
       "        [1., 1., 1., 1., 1., 1., 1., 1., 1., 1., 1., 0., 0., 0., 0., 0.,\n",
       "         0., 0., 0., 0., 1., 1., 1., 1., 1.],\n",
       "        [1., 1., 1., 1., 1., 1., 1., 1., 1., 1., 1., 1., 0., 0., 0., 0.,\n",
       "         0., 0., 0., 0., 0., 1., 1., 1., 1.],\n",
       "        [1., 1., 1., 1., 1., 1., 1., 1., 1., 1., 1., 1., 1., 0., 0., 0.,\n",
       "         0., 0., 0., 0., 0., 0., 1., 1., 1.],\n",
       "        [1., 1., 1., 1., 1., 1., 1., 1., 1., 1., 1., 1., 1., 1., 0., 0.,\n",
       "         0., 0., 0., 0., 0., 0., 0., 1., 1.],\n",
       "        [1., 1., 1., 1., 1., 1., 1., 1., 1., 1., 1., 1., 1., 1., 1., 0.,\n",
       "         0., 0., 0., 0., 0., 0., 0., 0., 1.],\n",
       "        [1., 1., 1., 1., 1., 1., 1., 1., 1., 1., 1., 1., 1., 1., 1., 1.,\n",
       "         0., 0., 0., 0., 0., 0., 0., 0., 1.],\n",
       "        [1., 1., 1., 1., 1., 1., 1., 1., 1., 1., 1., 1., 1., 1., 1., 1.,\n",
       "         1., 0., 0., 0., 0., 0., 0., 0., 1.],\n",
       "        [1., 1., 1., 1., 1., 1., 1., 1., 1., 1., 1., 1., 1., 1., 1., 1.,\n",
       "         1., 1., 0., 0., 0., 0., 0., 0., 1.],\n",
       "        [1., 1., 1., 1., 1., 1., 1., 1., 1., 1., 1., 1., 1., 1., 1., 1.,\n",
       "         1., 1., 1., 0., 0., 0., 0., 0., 1.],\n",
       "        [1., 1., 1., 1., 1., 1., 1., 1., 1., 1., 1., 1., 1., 1., 1., 1.,\n",
       "         1., 1., 1., 1., 1., 1., 1., 1., 1.]], dtype=float32)>,\n",
       " <tf.Tensor: shape=(25, 25), dtype=float32, numpy=\n",
       " array([[0., 0., 0., 0., 0., 1., 1., 1., 1., 1., 1., 1., 1., 1., 1., 1.,\n",
       "         1., 1., 1., 1., 1., 1., 1., 1., 1.],\n",
       "        [0., 0., 0., 0., 0., 0., 1., 1., 1., 1., 1., 1., 1., 1., 1., 1.,\n",
       "         1., 1., 1., 1., 1., 1., 1., 1., 1.],\n",
       "        [0., 0., 0., 0., 0., 0., 0., 1., 1., 1., 1., 1., 1., 1., 1., 1.,\n",
       "         1., 1., 1., 1., 1., 1., 1., 1., 1.],\n",
       "        [0., 0., 0., 0., 0., 0., 0., 0., 1., 1., 1., 1., 1., 1., 1., 1.,\n",
       "         1., 1., 1., 1., 1., 1., 1., 1., 1.],\n",
       "        [0., 0., 0., 0., 0., 0., 0., 0., 0., 1., 1., 1., 1., 1., 1., 1.,\n",
       "         1., 1., 1., 1., 1., 1., 1., 1., 1.],\n",
       "        [1., 0., 0., 0., 0., 0., 0., 0., 0., 0., 1., 1., 1., 1., 1., 1.,\n",
       "         1., 1., 1., 1., 1., 1., 1., 1., 1.],\n",
       "        [1., 1., 0., 0., 0., 0., 0., 0., 0., 0., 0., 1., 1., 1., 1., 1.,\n",
       "         1., 1., 1., 1., 1., 1., 1., 1., 1.],\n",
       "        [1., 1., 1., 0., 0., 0., 0., 0., 0., 0., 0., 0., 1., 1., 1., 1.,\n",
       "         1., 1., 1., 1., 1., 1., 1., 1., 1.],\n",
       "        [1., 1., 1., 1., 0., 0., 0., 0., 0., 0., 0., 0., 0., 1., 1., 1.,\n",
       "         1., 1., 1., 1., 1., 1., 1., 1., 1.],\n",
       "        [1., 1., 1., 1., 1., 0., 0., 0., 0., 0., 0., 0., 0., 0., 1., 1.,\n",
       "         1., 1., 1., 1., 1., 1., 1., 1., 1.],\n",
       "        [1., 1., 1., 1., 1., 1., 0., 0., 0., 0., 0., 0., 0., 0., 0., 1.,\n",
       "         1., 1., 1., 1., 1., 1., 1., 1., 1.],\n",
       "        [1., 1., 1., 1., 1., 1., 1., 0., 0., 0., 0., 0., 0., 0., 0., 1.,\n",
       "         1., 1., 1., 1., 1., 1., 1., 1., 1.],\n",
       "        [1., 1., 1., 1., 1., 1., 1., 1., 0., 0., 0., 0., 0., 0., 0., 0.,\n",
       "         1., 1., 1., 1., 1., 1., 1., 1., 1.],\n",
       "        [1., 1., 1., 1., 1., 1., 1., 1., 1., 0., 0., 0., 0., 0., 0., 1.,\n",
       "         1., 1., 1., 1., 1., 1., 1., 1., 1.],\n",
       "        [1., 1., 1., 1., 1., 1., 1., 1., 1., 1., 0., 0., 0., 0., 0., 1.,\n",
       "         1., 1., 1., 1., 1., 1., 1., 1., 1.],\n",
       "        [1., 1., 1., 1., 1., 1., 1., 1., 1., 1., 1., 1., 0., 1., 1., 1.,\n",
       "         1., 1., 1., 1., 1., 1., 1., 1., 1.],\n",
       "        [1., 1., 1., 1., 1., 1., 1., 1., 1., 1., 1., 1., 1., 1., 1., 1.,\n",
       "         1., 1., 1., 1., 1., 1., 1., 1., 1.],\n",
       "        [1., 1., 1., 1., 1., 1., 1., 1., 1., 1., 1., 1., 1., 1., 1., 1.,\n",
       "         1., 1., 1., 1., 1., 1., 1., 1., 1.],\n",
       "        [1., 1., 1., 1., 1., 1., 1., 1., 1., 1., 1., 1., 1., 1., 1., 1.,\n",
       "         1., 1., 1., 1., 1., 1., 1., 1., 1.],\n",
       "        [1., 1., 1., 1., 1., 1., 1., 1., 1., 1., 1., 1., 1., 1., 1., 1.,\n",
       "         1., 1., 1., 1., 1., 1., 1., 1., 1.],\n",
       "        [1., 1., 1., 1., 1., 1., 1., 1., 1., 1., 1., 1., 1., 1., 1., 1.,\n",
       "         1., 1., 1., 1., 1., 1., 1., 1., 1.],\n",
       "        [1., 1., 1., 1., 1., 1., 1., 1., 1., 1., 1., 1., 1., 1., 1., 1.,\n",
       "         1., 1., 1., 1., 1., 1., 1., 1., 1.],\n",
       "        [1., 1., 1., 1., 1., 1., 1., 1., 1., 1., 1., 1., 1., 1., 1., 1.,\n",
       "         1., 1., 1., 1., 1., 1., 1., 1., 1.],\n",
       "        [1., 1., 1., 1., 1., 1., 1., 1., 1., 1., 1., 1., 1., 1., 1., 1.,\n",
       "         1., 1., 1., 1., 1., 1., 1., 1., 1.],\n",
       "        [1., 1., 1., 1., 1., 1., 1., 1., 1., 1., 1., 1., 1., 1., 1., 1.,\n",
       "         1., 1., 1., 1., 1., 1., 1., 1., 1.]], dtype=float32)>,\n",
       " <tf.Tensor: shape=(), dtype=float32, numpy=1.0>,\n",
       " <tf.Tensor: shape=(), dtype=int32, numpy=0>]"
      ]
     },
     "execution_count": 18,
     "metadata": {},
     "output_type": "execute_result"
    }
   ],
   "source": [
    "input_step"
   ]
  },
  {
   "cell_type": "code",
   "execution_count": 70,
   "metadata": {},
   "outputs": [
    {
     "data": {
      "text/plain": [
       "Dict('cnv': Box(0.0, 1.0, (250, 250), float32), 'cnv_patch': Box(0.0, 1.0, (25, 25), float32), 'loc': Box(0, 250, (2,), int64), 'ref': Box(0.0, 1.0, (250, 250), float32), 'ref_patch': Box(0.0, 1.0, (25, 25), float32))"
      ]
     },
     "execution_count": 70,
     "metadata": {},
     "output_type": "execute_result"
    }
   ],
   "source": [
    "trainer._env.observation_space"
   ]
  },
  {
   "cell_type": "code",
   "execution_count": 71,
   "metadata": {},
   "outputs": [],
   "source": [
    "# Define global ref\n",
    "gref_input = keras.Input(shape=env.observation_space[\"cnv\"].shape[:2] + (1,))\n",
    "gref_cnn_1 = keras.layers.Conv2D(32, (8, 8))(gref_input)\n",
    "gref_pool_1 = keras.layers.MaxPool2D((16, 16))(gref_cnn_1)\n",
    "gref_flatten = keras.layers.Flatten()(gref_pool_1)\n",
    "gref_out = keras.layers.Dense(8)(gref_flatten)\n",
    "\n",
    "# Define global canvas\n",
    "gcnv_input = keras.Input(shape=env.observation_space[\"cnv\"].shape[:2] + (1,))\n",
    "gcnv_cnn_1 = keras.layers.Conv2D(32, (8, 8))(gcnv_input)\n",
    "gcnv_pool_1 = keras.layers.MaxPool2D((16, 16))(gcnv_cnn_1)\n",
    "gcnv_flatten = keras.layers.Flatten()(gcnv_pool_1)\n",
    "gcnv_out = keras.layers.Dense(8)(gcnv_flatten)\n",
    "\n",
    "# Define local ref\n",
    "lref_input = keras.Input(shape=env.observation_space[\"cnv_patch\"].shape[:2] + (1,))\n",
    "lref_cnn_1 = keras.layers.Conv2D(32, (8, 8))(lref_input)\n",
    "lref_flatten = keras.layers.Flatten()(lref_cnn_1)\n",
    "lref_out = keras.layers.Dense(8)(lref_flatten)\n",
    "\n",
    "# Define local canvas\n",
    "lcnv_input = keras.Input(shape=env.observation_space[\"cnv_patch\"].shape[:2] + (1,))\n",
    "lcnv_cnn_1 = keras.layers.Conv2D(32, (8, 8))(lcnv_input)\n",
    "lcnv_flatten = keras.layers.Flatten()(lcnv_cnn_1)\n",
    "lcnv_out = keras.layers.Dense(8)(lcnv_flatten)\n",
    "\n",
    "# Concatenate ref and canvas\n",
    "conc = keras.layers.Concatenate()([gref_out, gcnv_out, lref_out, lcnv_out])\n",
    "actor_out = keras.layers.Dense(8)(conc)\n",
    "critic_out = keras.layers.Dense(1)(conc)\n",
    "\n",
    "# Define model\n",
    "model = keras.Model([gref_input, gcnv_input, lref_input, lcnv_input], [actor_out, critic_out])\n"
   ]
  },
  {
   "cell_type": "code",
   "execution_count": 72,
   "metadata": {},
   "outputs": [
    {
     "data": {
      "image/png": "[encoded data removed]",
      "text/plain": [
       "<IPython.core.display.Image object>"
      ]
     },
     "execution_count": 72,
     "metadata": {},
     "output_type": "execute_result"
    }
   ],
   "source": [
    "keras.utils.plot_model(model)"
   ]
  },
  {
   "cell_type": "code",
   "execution_count": 73,
   "metadata": {},
   "outputs": [
    {
     "name": "stdout",
     "output_type": "stream",
     "text": [
      "Model: \"model_8\"\n",
      "__________________________________________________________________________________________________\n",
      " Layer (type)                   Output Shape         Param #     Connected to                     \n",
      "==================================================================================================\n",
      " input_33 (InputLayer)          [(None, 250, 250, 1  0           []                               \n",
      "                                )]                                                                \n",
      "                                                                                                  \n",
      " input_34 (InputLayer)          [(None, 250, 250, 1  0           []                               \n",
      "                                )]                                                                \n",
      "                                                                                                  \n",
      " conv2d_32 (Conv2D)             (None, 243, 243, 32  2080        ['input_33[0][0]']               \n",
      "                                )                                                                 \n",
      "                                                                                                  \n",
      " conv2d_33 (Conv2D)             (None, 243, 243, 32  2080        ['input_34[0][0]']               \n",
      "                                )                                                                 \n",
      "                                                                                                  \n",
      " input_35 (InputLayer)          [(None, 25, 25, 1)]  0           []                               \n",
      "                                                                                                  \n",
      " input_36 (InputLayer)          [(None, 25, 25, 1)]  0           []                               \n",
      "                                                                                                  \n",
      " max_pooling2d_6 (MaxPooling2D)  (None, 15, 15, 32)  0           ['conv2d_32[0][0]']              \n",
      "                                                                                                  \n",
      " max_pooling2d_7 (MaxPooling2D)  (None, 15, 15, 32)  0           ['conv2d_33[0][0]']              \n",
      "                                                                                                  \n",
      " conv2d_34 (Conv2D)             (None, 18, 18, 32)   2080        ['input_35[0][0]']               \n",
      "                                                                                                  \n",
      " conv2d_35 (Conv2D)             (None, 18, 18, 32)   2080        ['input_36[0][0]']               \n",
      "                                                                                                  \n",
      " flatten_32 (Flatten)           (None, 7200)         0           ['max_pooling2d_6[0][0]']        \n",
      "                                                                                                  \n",
      " flatten_33 (Flatten)           (None, 7200)         0           ['max_pooling2d_7[0][0]']        \n",
      "                                                                                                  \n",
      " flatten_34 (Flatten)           (None, 10368)        0           ['conv2d_34[0][0]']              \n",
      "                                                                                                  \n",
      " flatten_35 (Flatten)           (None, 10368)        0           ['conv2d_35[0][0]']              \n",
      "                                                                                                  \n",
      " dense_47 (Dense)               (None, 8)            57608       ['flatten_32[0][0]']             \n",
      "                                                                                                  \n",
      " dense_48 (Dense)               (None, 8)            57608       ['flatten_33[0][0]']             \n",
      "                                                                                                  \n",
      " dense_49 (Dense)               (None, 8)            82952       ['flatten_34[0][0]']             \n",
      "                                                                                                  \n",
      " dense_50 (Dense)               (None, 8)            82952       ['flatten_35[0][0]']             \n",
      "                                                                                                  \n",
      " concatenate_8 (Concatenate)    (None, 32)           0           ['dense_47[0][0]',               \n",
      "                                                                  'dense_48[0][0]',               \n",
      "                                                                  'dense_49[0][0]',               \n",
      "                                                                  'dense_50[0][0]']               \n",
      "                                                                                                  \n",
      " dense_51 (Dense)               (None, 8)            264         ['concatenate_8[0][0]']          \n",
      "                                                                                                  \n",
      " dense_52 (Dense)               (None, 1)            33          ['concatenate_8[0][0]']          \n",
      "                                                                                                  \n",
      "==================================================================================================\n",
      "Total params: 289,737\n",
      "Trainable params: 289,737\n",
      "Non-trainable params: 0\n",
      "__________________________________________________________________________________________________\n"
     ]
    }
   ],
   "source": [
    "model.summary()"
   ]
  },
  {
   "cell_type": "code",
   "execution_count": 74,
   "metadata": {},
   "outputs": [
    {
     "data": {
      "text/plain": [
       "[<tf.Tensor: shape=(1, 8), dtype=float32, numpy=\n",
       " array([[ 0.27566522, -0.13555342,  0.12616856,  0.22195649,  0.29273075,\n",
       "         -0.06204719,  0.6958765 ,  0.18322809]], dtype=float32)>,\n",
       " <tf.Tensor: shape=(1, 1), dtype=float32, numpy=array([[0.1390075]], dtype=float32)>]"
      ]
     },
     "execution_count": 74,
     "metadata": {},
     "output_type": "execute_result"
    }
   ],
   "source": [
    "inputs= [tf.expand_dims(x, 0) for x in input_step[1:5]]\n",
    "\n",
    "model(inputs)"
   ]
  },
  {
   "cell_type": "code",
   "execution_count": null,
   "metadata": {},
   "outputs": [],
   "source": []
  }
 ],
 "metadata": {
  "kernelspec": {
   "display_name": "Python 3.8.13 ('rlenv')",
   "language": "python",
   "name": "python3"
  },
  "language_info": {
   "codemirror_mode": {
    "name": "ipython",
    "version": 3
   },
   "file_extension": ".py",
   "mimetype": "text/x-python",
   "name": "python",
   "nbconvert_exporter": "python",
   "pygments_lexer": "ipython3",
   "version": "3.8.13"
  },
  "orig_nbformat": 4,
  "vscode": {
   "interpreter": {
    "hash": "4bc5bdd1f96b0bfe1b0a7578d394c815a18b7bbf3d83f21c57372441a2e86538"
   }
  }
 },
 "nbformat": 4,
 "nbformat_minor": 2
}
