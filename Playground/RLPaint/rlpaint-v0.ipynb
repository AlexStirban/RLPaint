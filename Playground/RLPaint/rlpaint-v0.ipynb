{
 "cells": [
  {
   "cell_type": "markdown",
   "metadata": {},
   "source": [
    "# A2C Model for RLPaint"
   ]
  },
  {
   "cell_type": "markdown",
   "metadata": {},
   "source": [
    "## Imports"
   ]
  },
  {
   "cell_type": "code",
   "execution_count": 9,
   "metadata": {},
   "outputs": [],
   "source": [
    "# Full imports\n",
    "import gym\n",
    "import cv2\n",
    "\n",
    "# Partial imports \n",
    "from tqdm.notebook import tqdm, trange\n",
    "\n",
    "# Aliased imports\n",
    "import tensorflow as tf\n",
    "import tensorflow.keras as keras\n",
    "import tensorflow_probability as tfp\n",
    "import numpy as np\n",
    "from typing import Any, List, Sequence, Tuple"
   ]
  },
  {
   "cell_type": "markdown",
   "metadata": {},
   "source": [
    "## Bootstrap"
   ]
  },
  {
   "cell_type": "code",
   "execution_count": 4,
   "metadata": {},
   "outputs": [
    {
     "data": {
      "text/plain": [
       "[PhysicalDevice(name='/physical_device:GPU:0', device_type='GPU')]"
      ]
     },
     "execution_count": 4,
     "metadata": {},
     "output_type": "execute_result"
    }
   ],
   "source": [
    "# Remember to export to export \"LD_LIBRARY_PATH=$LD_LIBRARY_PATH:$CONDA_PREFIX/lib/\"\" if using linux\n",
    "# Drop numa errors in term: \"for a in /sys/bus/pci/devices/*; do echo 0 | sudo tee -a $a/numa_node; done\"\n",
    "\n",
    "# Check if we have GPU\n",
    "tf.config.list_physical_devices('GPU')"
   ]
  },
  {
   "cell_type": "markdown",
   "metadata": {},
   "source": [
    "### Constants"
   ]
  },
  {
   "cell_type": "code",
   "execution_count": 7,
   "metadata": {},
   "outputs": [],
   "source": [
    "# Define min epsilon so we don't run into inf\n",
    "# on divisions\n",
    "EPS = np.finfo(np.float32).eps.item()\n",
    "\n",
    "# Use Huber loss for crisitic as it's less sensitive to outliers than MSE\n",
    "HUBER_LOSS = tf.keras.losses.Huber(reduction=tf.keras.losses.Reduction.SUM)\n",
    "\n",
    "# Define patch size\n",
    "# Must be odd\n",
    "PATCH_SIZE = (31, 31)"
   ]
  },
  {
   "cell_type": "markdown",
   "metadata": {},
   "source": [
    "## Environment Interaction"
   ]
  },
  {
   "cell_type": "code",
   "execution_count": 13,
   "metadata": {},
   "outputs": [],
   "source": [
    "class Trainer:\n",
    "    def __init__(self, env: gym.Env, model: keras.Model, max_steps=300) -> None:\n",
    "        # Make internal copy of params\n",
    "        self._env = env\n",
    "        self._model = model\n",
    "        self._max_steps = max_steps\n",
    "\n",
    "    # Define aux methods for vectorization\n",
    "    def _aux_np_step(self, action: np.ndarray) -> Tuple[np.ndarray, np.ndarray, np.ndarray, np.ndarray]:\n",
    "        state, reward, done, _ = self._env.step(int(action))\n",
    "\n",
    "        return (\n",
    "            state[\"loc\"],\n",
    "            state[\"canvas\"].astype(np.float32),\n",
    "            np.array(reward, np.float32),\n",
    "            np.array(done, np.int32)\n",
    "        )\n",
    "    \n",
    "    def _aux_np_patch(self, canvas: np.ndarray, loc: np.ndarray, size: np.ndarray) -> np.ndarray:\n",
    "        # Define square patch\n",
    "        xmin = np.clip(int(loc[0] - np.floor(PATCH_SIZE[0] / 2)), 0, canvas.shape[0])\n",
    "        xmax = np.clip(int(loc[0] + np.floor(PATCH_SIZE[0] / 2)), 0, canvas.shape[0])\n",
    "        ymin = np.clip(int(loc[1] - np.floor(PATCH_SIZE[0] / 2)), 0, canvas.shape[1])\n",
    "        ymax = np.clip(int(loc[1] + np.floor(PATCH_SIZE[0] / 2)), 0, canvas.shape[1])\n",
    "\n",
    "        # Get patch\n",
    "        img = canvas[xmin:xmax, ymin:ymax]\n",
    "        padding = [\n",
    "            # Top, bottom\n",
    "            (0, PATCH_SIZE[1] - img.shape[1]),\n",
    "            # Right, left\n",
    "            (0, PATCH_SIZE[0] - img.shape[0])\n",
    "        ]\n",
    "\n",
    "        # Fill with 1s\n",
    "        return np.pad(img, padding, mode=\"constant\", constant_values=1)\n",
    "    \n",
    "    def _tf_step(self, action: tf.Tensor) -> List[tf.Tensor]:\n",
    "        return tf.numpy_function(self._aux_np_step, [action], [tf.int32, tf.float32, tf.float32, tf.float32])\n",
    "    \n",
    "    def _tf_patch(self, canvas: tf.Tensor, loc: tf.Tensor, size: tf.Tensor):\n",
    "        return tf.numpy_function(self._aux_np_patch, [canvas, loc, size], [tf.Tensor])\n",
    "\n",
    "    def run_episode():\n",
    "        log_probs = tf.TensorArray(dtype=tf.float32, size=0, dynamic_size=True, clear_after_read=False)\n",
    "        values = tf.TensorArray(dtype=tf.float32, size=0, dynamic_size=True, clear_after_read=False)\n",
    "        rewards = tf.TensorArray(dtype=tf.float32, size=0, dynamic_size=True, clear_after_read=False)\n",
    "\n",
    "        # Init agent and get state\n",
    "\n",
    "\n"
   ]
  },
  {
   "cell_type": "code",
   "execution_count": null,
   "metadata": {},
   "outputs": [],
   "source": []
  }
 ],
 "metadata": {
  "kernelspec": {
   "display_name": "Python 3.8.13 ('rlenv')",
   "language": "python",
   "name": "python3"
  },
  "language_info": {
   "codemirror_mode": {
    "name": "ipython",
    "version": 3
   },
   "file_extension": ".py",
   "mimetype": "text/x-python",
   "name": "python",
   "nbconvert_exporter": "python",
   "pygments_lexer": "ipython3",
   "version": "3.8.13"
  },
  "orig_nbformat": 4,
  "vscode": {
   "interpreter": {
    "hash": "4bc5bdd1f96b0bfe1b0a7578d394c815a18b7bbf3d83f21c57372441a2e86538"
   }
  }
 },
 "nbformat": 4,
 "nbformat_minor": 2
}
