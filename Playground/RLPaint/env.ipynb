{
 "cells": [
  {
   "cell_type": "code",
   "execution_count": 1,
   "metadata": {},
   "outputs": [],
   "source": [
    "# Full imports\n",
    "import gym\n",
    "import cv2\n",
    "\n",
    "# Partial imports\n",
    "from gym import spaces\n",
    "from math import cos, sin, pi\n",
    "\n",
    "# Aliased imports\n",
    "import numpy as np\n",
    "import matplotlib.pyplot as plt\n"
   ]
  },
  {
   "cell_type": "code",
   "execution_count": 166,
   "metadata": {},
   "outputs": [],
   "source": [
    "class TelesketchEnv(gym.Env):\n",
    "    metadata = {\"render_modes\": [\"image\"]}\n",
    "\n",
    "    def __init__(self, ref_canvas, sim_func, segment_length=5, stroke_thickness=5, render_mode=None) -> None:\n",
    "        # Save ref image & sim func\n",
    "        self.ref_canvas = self._to_norm_gray(ref_canvas)\n",
    "        self.sim_func = sim_func\n",
    "        self._reset_called = False\n",
    "\n",
    "        # Save segment params\n",
    "        self.segment_length = segment_length\n",
    "        self.stroke_thickness = stroke_thickness\n",
    "        \n",
    "        # Define action space\n",
    "        self.action_space = spaces.Discrete(8)\n",
    "\n",
    "        # Define observation space\n",
    "        self.observation_space = spaces.Dict(\n",
    "            {\n",
    "                \"loc\": spaces.Box(np.array((0, 0)), np.array(self.ref_canvas.shape), dtype=int),\n",
    "                \"canvas\": spaces.Box(0, 255, shape=self.ref_canvas.shape, dtype=np.float32)\n",
    "            }\n",
    "        )\n",
    "\n",
    "        # Assert correct render mode is selected\n",
    "        assert render_mode is None or render_mode in self.metadata[\"render_modes\"], \"{render_mode} not supported\"\n",
    "        self.render_mode = render_mode\n",
    "\n",
    "        self.window = None\n",
    "        self.clock = None\n",
    "\n",
    "    def _to_norm_gray(self, img):\n",
    "        img = cv2.cvtColor(img, cv2.COLOR_BGR2GRAY).astype(float) / 255\n",
    "        img = cv2.normalize(img, None, alpha=0, beta=1, norm_type=cv2.NORM_MINMAX, dtype=cv2.CV_32F)\n",
    "\n",
    "        return img\n",
    "\n",
    "    def _get_obs(self):\n",
    "        return {\"loc\": self._loc, \"canvas\": self._canvas}\n",
    "    \n",
    "    def _get_info(self):\n",
    "        return {\"sim\": self.sim_func(self._canvas, self.ref_canvas)}\n",
    "\n",
    "    def _compute_rewards(self, ref_canvas, new_canvas, old_canvas):\n",
    "        old_sim = self.sim_func(ref_canvas, old_canvas)\n",
    "        new_sim = self.sim_func(ref_canvas, new_canvas)\n",
    "\n",
    "        return 1 if new_sim > old_sim else 0\n",
    " \n",
    "    def reset(self, loc=(0, 0), seed=None,):\n",
    "        super().reset(seed=seed)\n",
    "\n",
    "        self._loc = np.array(loc)\n",
    "        self._canvas = np.full(self.ref_canvas.shape + (3,), 255, dtype=np.uint8)\n",
    "        self._canvas = self._to_norm_gray(self._canvas)\n",
    "        #self._canvas = cv2.line(self._canvas, (0, 0), (250, 250), (0, 0, 0), 5)\n",
    "\n",
    "        # Reset flag\n",
    "        self._reset_called = True\n",
    "\n",
    "        return self._get_obs(), self._get_info()\n",
    "    \n",
    "    def step(self, action):\n",
    "        # Check action is correct and reset has been called\n",
    "        assert action >= 0 and action < self.action_space.n, \"Action is not valid\"\n",
    "        assert self._reset_called, \"Reset must be called before step\"\n",
    "\n",
    "        # Compute target x, y\n",
    "        x = cos(action * pi / 4) * self.segment_length\n",
    "        y = sin(action * pi / 4) * self.segment_length\n",
    "\n",
    "        # Compute new states\n",
    "        new_loc = self._loc + np.floor(np.array([x, -y])).astype(int)\n",
    "\n",
    "        new_canvas = cv2.line(self._canvas, self._loc, new_loc, (0, 0, 0), self.stroke_thickness)\n",
    "\n",
    "        # Compute rewards\n",
    "        reward = self._compute_rewards(self.ref_canvas, new_canvas, self._canvas)\n",
    "\n",
    "        # Update state\n",
    "        self._loc = new_loc\n",
    "        self._canvas = new_canvas\n",
    "\n",
    "        return self._get_obs(), reward, None, False, self._get_info()\n",
    "\n",
    "    def render(self):\n",
    "        if self.render_mode == \"image\":\n",
    "            self._plt_render()\n",
    "\n",
    "    def _plt_render(self):\n",
    "        fig, (ax1, ax2) = plt.subplots(1, 2, figsize=(8, 8))\n",
    "\n",
    "        ref = cv2.cvtColor(self.ref_canvas, cv2.COLOR_GRAY2BGR) * 255\n",
    "        gen = cv2.cvtColor(self._canvas, cv2.COLOR_GRAY2BGR) * 255\n",
    "\n",
    "        ax1.imshow(ref, cmap=\"gray\")\n",
    "        ax2.imshow(gen, cmap=\"gray\")\n",
    "\n",
    "        ax1.set_title(\"Ref. Canvas\")\n",
    "        ax2.set_title(\"Env. Canvas\")\n",
    "\n",
    "        plt.show()\n",
    "        "
   ]
  },
  {
   "cell_type": "code",
   "execution_count": 167,
   "metadata": {},
   "outputs": [],
   "source": [
    "# Ref canvas\n",
    "ref_canvas = np.full((250, 250, 3), 255, dtype=np.uint8)\n",
    "ref_canvas = cv2.line(ref_canvas, (0, 0), (250, 250), (0, 0, 0), 5)\n",
    "\n",
    "# Sim func\n",
    "def rmse_sim(x, y):\n",
    "    return np.sqrt(np.sum((x - y) ** 2))\n",
    "\n"
   ]
  },
  {
   "cell_type": "code",
   "execution_count": 168,
   "metadata": {},
   "outputs": [
    {
     "data": {
      "text/plain": [
       "({'loc': array([0, 0]),\n",
       "  'canvas': array([[0., 0., 0., ..., 0., 0., 0.],\n",
       "         [0., 0., 0., ..., 0., 0., 0.],\n",
       "         [0., 0., 0., ..., 0., 0., 0.],\n",
       "         ...,\n",
       "         [0., 0., 0., ..., 0., 0., 0.],\n",
       "         [0., 0., 0., ..., 0., 0., 0.],\n",
       "         [0., 0., 0., ..., 0., 0., 0.]], dtype=float32)},\n",
       " {'sim': 245.4995})"
      ]
     },
     "execution_count": 168,
     "metadata": {},
     "output_type": "execute_result"
    }
   ],
   "source": [
    "# Init env\n",
    "env = TelesketchEnv(ref_canvas, rmse_sim, 5, 5, \"image\")\n",
    "env.reset()"
   ]
  },
  {
   "cell_type": "code",
   "execution_count": 169,
   "metadata": {},
   "outputs": [
    {
     "name": "stderr",
     "output_type": "stream",
     "text": [
      "Clipping input data to the valid range for imshow with RGB data ([0..1] for floats or [0..255] for integers).\n"
     ]
    },
    {
     "data": {
      "image/png": "[encoded data removed]",
      "text/plain": [
       "<Figure size 576x576 with 2 Axes>"
      ]
     },
     "metadata": {
      "needs_background": "light"
     },
     "output_type": "display_data"
    }
   ],
   "source": [
    "env.render()"
   ]
  },
  {
   "cell_type": "code",
   "execution_count": 171,
   "metadata": {},
   "outputs": [
    {
     "data": {
      "text/plain": [
       "array([[0., 0., 0., ..., 0., 0., 0.],\n",
       "       [0., 0., 0., ..., 0., 0., 0.],\n",
       "       [0., 0., 0., ..., 0., 0., 0.],\n",
       "       ...,\n",
       "       [0., 0., 0., ..., 0., 0., 0.],\n",
       "       [0., 0., 0., ..., 0., 0., 0.],\n",
       "       [0., 0., 0., ..., 0., 0., 0.]], dtype=float32)"
      ]
     },
     "execution_count": 171,
     "metadata": {},
     "output_type": "execute_result"
    }
   ],
   "source": [
    "env._canvas"
   ]
  },
  {
   "cell_type": "code",
   "execution_count": null,
   "metadata": {},
   "outputs": [],
   "source": []
  },
  {
   "cell_type": "code",
   "execution_count": null,
   "metadata": {},
   "outputs": [],
   "source": []
  }
 ],
 "metadata": {
  "kernelspec": {
   "display_name": "Python 3.8.13 ('rlenv')",
   "language": "python",
   "name": "python3"
  },
  "language_info": {
   "codemirror_mode": {
    "name": "ipython",
    "version": 3
   },
   "file_extension": ".py",
   "mimetype": "text/x-python",
   "name": "python",
   "nbconvert_exporter": "python",
   "pygments_lexer": "ipython3",
   "version": "3.8.13"
  },
  "orig_nbformat": 4,
  "vscode": {
   "interpreter": {
    "hash": "4bc5bdd1f96b0bfe1b0a7578d394c815a18b7bbf3d83f21c57372441a2e86538"
   }
  }
 },
 "nbformat": 4,
 "nbformat_minor": 2
}
