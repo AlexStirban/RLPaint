{
 "cells": [
  {
   "cell_type": "code",
   "execution_count": 3,
   "metadata": {},
   "outputs": [],
   "source": [
    "# Full imports\n",
    "import gym\n",
    "import cv2\n",
    "\n",
    "# Partial imports\n",
    "from gym import spaces\n",
    "from math import cos, sin, pi\n",
    "\n",
    "# Aliased imports\n",
    "import numpy as np\n",
    "import matplotlib.pyplot as plt\n"
   ]
  },
  {
   "cell_type": "code",
   "execution_count": 4,
   "metadata": {},
   "outputs": [],
   "source": [
    "class TelesketchEnv(gym.Env):\n",
    "    metadata = {\"render_modes\": [\"image\"]}\n",
    "\n",
    "    def __init__(self, ref_canvas, sim_func, segment_length=5, stroke_thickness=5, render_mode=None) -> None:\n",
    "        # Save ref image & sim func\n",
    "        self.ref_canvas = self._to_norm_gray(ref_canvas)\n",
    "        self.sim_func = sim_func\n",
    "        self._reset_called = False\n",
    "\n",
    "        # Save segment params\n",
    "        self.segment_length = segment_length\n",
    "        self.stroke_thickness = stroke_thickness\n",
    "        \n",
    "        # Define action space\n",
    "        self.action_space = spaces.Discrete(8)\n",
    "\n",
    "        # Define observation space\n",
    "        self.observation_space = spaces.Dict(\n",
    "            {\n",
    "                \"loc\": spaces.Box(np.array((0, 0)), np.array(self.ref_canvas.shape), dtype=int),\n",
    "                \"canvas\": spaces.Box(0, 255, shape=self.ref_canvas.shape, dtype=np.float32)\n",
    "            }\n",
    "        )\n",
    "\n",
    "        # Assert correct render mode is selected\n",
    "        assert render_mode is None or render_mode in self.metadata[\"render_modes\"], \"{render_mode} not supported\"\n",
    "        self.render_mode = render_mode\n",
    "\n",
    "        self.window = None\n",
    "        self.clock = None\n",
    "\n",
    "    def _to_norm_gray(self, img):\n",
    "        img = cv2.cvtColor(img, cv2.COLOR_BGR2GRAY)\n",
    "        return img.astype(np.float32) / 255\n",
    "\n",
    "    def _get_obs(self):\n",
    "        return {\"loc\": self._loc, \"canvas\": self._canvas}\n",
    "    \n",
    "    def _get_info(self):\n",
    "        return {\"sim\": self.sim_func(self._canvas, self.ref_canvas)}\n",
    "\n",
    "    def _compute_rewards(self, ref_canvas, new_canvas, old_canvas):\n",
    "        old_sim = self.sim_func(ref_canvas, old_canvas)\n",
    "        new_sim = self.sim_func(ref_canvas, new_canvas)\n",
    "\n",
    "        return 1 if new_sim > old_sim else 0\n",
    " \n",
    "    def reset(self, loc=(0, 0), seed=None,):\n",
    "        super().reset(seed=seed)\n",
    "\n",
    "        self._loc = np.array(loc)\n",
    "        self._canvas = np.full(self.ref_canvas.shape, 1, dtype=np.float32)\n",
    "        \n",
    "        # Reset flag\n",
    "        self._reset_called = True\n",
    "\n",
    "        return self._get_obs(), self._get_info()\n",
    "    \n",
    "    def step(self, action):\n",
    "        # Check action is correct and reset has been called\n",
    "        assert action >= 0 and action < self.action_space.n, \"Action is not valid\"\n",
    "        assert self._reset_called, \"Reset must be called before step\"\n",
    "\n",
    "        # Compute target x, y\n",
    "        x = cos(action * pi / 4) * self.segment_length\n",
    "        y = sin(action * pi / 4) * self.segment_length\n",
    "\n",
    "        # Compute new states\n",
    "        new_loc = self._loc + np.round(np.array([x, -y])).astype(int)\n",
    "\n",
    "        new_canvas = cv2.line(self._canvas, self._loc, new_loc, (0, 0, 0), self.stroke_thickness)\n",
    "\n",
    "        # Compute rewards\n",
    "        reward = self._compute_rewards(self.ref_canvas, new_canvas, self._canvas)\n",
    "\n",
    "        # Update state\n",
    "        self._loc = new_loc\n",
    "        self._canvas = new_canvas\n",
    "\n",
    "        return self._get_obs(), reward, None, False, self._get_info()\n",
    "\n",
    "    def render(self):\n",
    "        if self.render_mode == \"image\":\n",
    "            self._plt_render()\n",
    "\n",
    "    def _plt_render(self):\n",
    "        fig, (ax1, ax2) = plt.subplots(1, 2, figsize=(8, 8))\n",
    "\n",
    "        ref = cv2.cvtColor((self.ref_canvas * 255).astype(np.uint8), cv2.COLOR_GRAY2BGR)\n",
    "        gen = cv2.cvtColor((self._canvas * 255).astype(np.uint8), cv2.COLOR_GRAY2BGR)\n",
    "\n",
    "        ax1.imshow(ref, cmap=\"gray\")\n",
    "        ax2.imshow(gen, cmap=\"gray\")\n",
    "\n",
    "        ax1.set_title(\"Ref. Canvas\")\n",
    "        ax2.set_title(\"Env. Canvas\")\n",
    "\n",
    "        plt.show() "
   ]
  },
  {
   "cell_type": "code",
   "execution_count": 5,
   "metadata": {},
   "outputs": [],
   "source": [
    "# Ref canvas\n",
    "ref_canvas = np.full((250, 250, 3), 255, dtype=np.uint8)\n",
    "ref_canvas = cv2.line(ref_canvas, (0, 0), (250, 250), (0, 0, 0), 5)\n",
    "\n",
    "# Sim func\n",
    "def rmse_sim(x, y):\n",
    "    return np.sqrt(np.sum((x - y) ** 2))"
   ]
  },
  {
   "cell_type": "code",
   "execution_count": 6,
   "metadata": {},
   "outputs": [
    {
     "data": {
      "text/plain": [
       "({'loc': array([125, 125]),\n",
       "  'canvas': array([[1., 1., 1., ..., 1., 1., 1.],\n",
       "         [1., 1., 1., ..., 1., 1., 1.],\n",
       "         [1., 1., 1., ..., 1., 1., 1.],\n",
       "         ...,\n",
       "         [1., 1., 1., ..., 1., 1., 1.],\n",
       "         [1., 1., 1., ..., 1., 1., 1.],\n",
       "         [1., 1., 1., ..., 1., 1., 1.]], dtype=float32)},\n",
       " {'sim': 47.222878})"
      ]
     },
     "execution_count": 6,
     "metadata": {},
     "output_type": "execute_result"
    }
   ],
   "source": [
    "# Init env\n",
    "env = TelesketchEnv(ref_canvas, rmse_sim, 20, 5, \"image\")\n",
    "env.reset((125, 125))"
   ]
  },
  {
   "cell_type": "code",
   "execution_count": 74,
   "metadata": {},
   "outputs": [],
   "source": [
    "PATCH_SIZE = (31, 31)\n",
    "\n",
    "def patch(canvas: np.ndarray, loc: np.ndarray, size) -> np.ndarray:\n",
    "    # Define square patch\n",
    "    xmin = np.clip(int(loc[0] - np.floor(size[0] / 2)), 0, canvas.shape[0])\n",
    "    xmax = np.clip(int(loc[0] + np.floor(size[0] / 2)), 0, canvas.shape[0])\n",
    "    ymin = np.clip(int(loc[1] - np.floor(size[0] / 2)), 0, canvas.shape[1])\n",
    "    ymax = np.clip(int(loc[1] + np.floor(size[0] / 2)), 0, canvas.shape[1])\n",
    "\n",
    "    # Get patch\n",
    "    img = canvas[xmin:xmax, ymin:ymax]\n",
    "    padding = [\n",
    "        # Top, bottom\n",
    "        (0, size[1] - img.shape[1]),\n",
    "        # Right, left\n",
    "        (0, size[0] - img.shape[0])\n",
    "    ]\n",
    "    \n",
    "    return img\n",
    "    #return np.pad(img, padding, mode=\"constant\", constant_values=1)"
   ]
  },
  {
   "cell_type": "code",
   "execution_count": null,
   "metadata": {},
   "outputs": [],
   "source": []
  },
  {
   "cell_type": "code",
   "execution_count": 75,
   "metadata": {},
   "outputs": [
    {
     "data": {
      "image/png": "[encoded data removed]",
      "text/plain": [
       "<Figure size 576x576 with 2 Axes>"
      ]
     },
     "metadata": {
      "needs_background": "light"
     },
     "output_type": "display_data"
    }
   ],
   "source": [
    "env.reset()\n",
    "state, _, _, _, _ = env.step(7)\n",
    "loc = state[\"loc\"]\n",
    "canvas = state[\"canvas\"]\n",
    "env.render()\n"
   ]
  },
  {
   "cell_type": "code",
   "execution_count": 79,
   "metadata": {},
   "outputs": [
    {
     "data": {
      "text/plain": [
       "array([[[  0,   0,   0],\n",
       "        [  0,   0,   0],\n",
       "        [  0,   0,   0],\n",
       "        ...,\n",
       "        [255, 255, 255],\n",
       "        [255, 255, 255],\n",
       "        [255, 255, 255]],\n",
       "\n",
       "       [[  0,   0,   0],\n",
       "        [  0,   0,   0],\n",
       "        [  0,   0,   0],\n",
       "        ...,\n",
       "        [255, 255, 255],\n",
       "        [255, 255, 255],\n",
       "        [255, 255, 255]],\n",
       "\n",
       "       [[  0,   0,   0],\n",
       "        [  0,   0,   0],\n",
       "        [  0,   0,   0],\n",
       "        ...,\n",
       "        [255, 255, 255],\n",
       "        [255, 255, 255],\n",
       "        [255, 255, 255]],\n",
       "\n",
       "       ...,\n",
       "\n",
       "       [[255, 255, 255],\n",
       "        [255, 255, 255],\n",
       "        [255, 255, 255],\n",
       "        ...,\n",
       "        [  0,   0,   0],\n",
       "        [  0,   0,   0],\n",
       "        [  0,   0,   0]],\n",
       "\n",
       "       [[255, 255, 255],\n",
       "        [255, 255, 255],\n",
       "        [255, 255, 255],\n",
       "        ...,\n",
       "        [  0,   0,   0],\n",
       "        [  0,   0,   0],\n",
       "        [  0,   0,   0]],\n",
       "\n",
       "       [[255, 255, 255],\n",
       "        [255, 255, 255],\n",
       "        [255, 255, 255],\n",
       "        ...,\n",
       "        [  0,   0,   0],\n",
       "        [  0,   0,   0],\n",
       "        [  0,   0,   0]]], dtype=uint8)"
      ]
     },
     "execution_count": 79,
     "metadata": {},
     "output_type": "execute_result"
    }
   ],
   "source": [
    "ref = cv2.cvtColor(ref_canvas, cv2.COLOR_BGR2GRAY)\n",
    "ref = ref.astype(np.float32) / 255\n",
    "\n",
    "img = patch(ref_canvas, [240, 240], (31, 31))\n",
    "img.shape"
   ]
  },
  {
   "cell_type": "code",
   "execution_count": 78,
   "metadata": {},
   "outputs": [
    {
     "ename": "error",
     "evalue": "OpenCV(4.6.0) /io/opencv/modules/imgproc/src/color.simd_helpers.hpp:92: error: (-2:Unspecified error) in function 'cv::impl::{anonymous}::CvtHelper<VScn, VDcn, VDepth, sizePolicy>::CvtHelper(cv::InputArray, cv::OutputArray, int) [with VScn = cv::impl::{anonymous}::Set<1>; VDcn = cv::impl::{anonymous}::Set<3, 4>; VDepth = cv::impl::{anonymous}::Set<0, 2, 5>; cv::impl::{anonymous}::SizePolicy sizePolicy = cv::impl::<unnamed>::NONE; cv::InputArray = const cv::_InputArray&; cv::OutputArray = const cv::_OutputArray&]'\n> Invalid number of channels in input image:\n>     'VScn::contains(scn)'\n> where\n>     'scn' is 3\n",
     "output_type": "error",
     "traceback": [
      "\u001b[0;31m---------------------------------------------------------------------------\u001b[0m",
      "\u001b[0;31merror\u001b[0m                                     Traceback (most recent call last)",
      "\u001b[1;32m/home/main/Documents/Projects/RLPaint/Playground/RLPaint/env.ipynb Cell 11\u001b[0m in \u001b[0;36m<cell line: 1>\u001b[0;34m()\u001b[0m\n\u001b[0;32m----> <a href='vscode-notebook-cell:/home/main/Documents/Projects/RLPaint/Playground/RLPaint/env.ipynb#X10sZmlsZQ%3D%3D?line=0'>1</a>\u001b[0m img \u001b[39m=\u001b[39m cv2\u001b[39m.\u001b[39;49mcvtColor((img \u001b[39m*\u001b[39;49m \u001b[39m255\u001b[39;49m)\u001b[39m.\u001b[39;49mastype(np\u001b[39m.\u001b[39;49muint8), cv2\u001b[39m.\u001b[39;49mCOLOR_GRAY2BGR)\n\u001b[1;32m      <a href='vscode-notebook-cell:/home/main/Documents/Projects/RLPaint/Playground/RLPaint/env.ipynb#X10sZmlsZQ%3D%3D?line=2'>3</a>\u001b[0m plt\u001b[39m.\u001b[39mimshow(img, cmap\u001b[39m=\u001b[39m\u001b[39m\"\u001b[39m\u001b[39mgray\u001b[39m\u001b[39m\"\u001b[39m)\n",
      "\u001b[0;31merror\u001b[0m: OpenCV(4.6.0) /io/opencv/modules/imgproc/src/color.simd_helpers.hpp:92: error: (-2:Unspecified error) in function 'cv::impl::{anonymous}::CvtHelper<VScn, VDcn, VDepth, sizePolicy>::CvtHelper(cv::InputArray, cv::OutputArray, int) [with VScn = cv::impl::{anonymous}::Set<1>; VDcn = cv::impl::{anonymous}::Set<3, 4>; VDepth = cv::impl::{anonymous}::Set<0, 2, 5>; cv::impl::{anonymous}::SizePolicy sizePolicy = cv::impl::<unnamed>::NONE; cv::InputArray = const cv::_InputArray&; cv::OutputArray = const cv::_OutputArray&]'\n> Invalid number of channels in input image:\n>     'VScn::contains(scn)'\n> where\n>     'scn' is 3\n"
     ]
    }
   ],
   "source": [
    "\n",
    "img = cv2.cvtColor((img * 255).astype(np.uint8), cv2.COLOR_GRAY2BGR)\n",
    "\n",
    "plt.imshow(img, cmap=\"gray\")"
   ]
  },
  {
   "cell_type": "code",
   "execution_count": 58,
   "metadata": {},
   "outputs": [
    {
     "data": {
      "text/plain": [
       "array([[0., 0., 0., ..., 0., 0., 0.],\n",
       "       [0., 0., 0., ..., 0., 0., 0.],\n",
       "       [0., 1., 1., ..., 0., 0., 1.],\n",
       "       ...,\n",
       "       [0., 0., 0., ..., 0., 0., 0.],\n",
       "       [0., 0., 0., ..., 0., 0., 0.],\n",
       "       [0., 0., 0., ..., 0., 0., 0.]], dtype=float32)"
      ]
     },
     "execution_count": 58,
     "metadata": {},
     "output_type": "execute_result"
    }
   ],
   "source": [
    "np.resize(img, (32, 32))"
   ]
  },
  {
   "cell_type": "code",
   "execution_count": null,
   "metadata": {},
   "outputs": [],
   "source": []
  }
 ],
 "metadata": {
  "kernelspec": {
   "display_name": "Python 3.8.13 ('rlenv')",
   "language": "python",
   "name": "python3"
  },
  "language_info": {
   "codemirror_mode": {
    "name": "ipython",
    "version": 3
   },
   "file_extension": ".py",
   "mimetype": "text/x-python",
   "name": "python",
   "nbconvert_exporter": "python",
   "pygments_lexer": "ipython3",
   "version": "3.8.13"
  },
  "orig_nbformat": 4,
  "vscode": {
   "interpreter": {
    "hash": "4bc5bdd1f96b0bfe1b0a7578d394c815a18b7bbf3d83f21c57372441a2e86538"
   }
  }
 },
 "nbformat": 4,
 "nbformat_minor": 2
}
