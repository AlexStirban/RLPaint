{
 "cells": [
  {
   "cell_type": "markdown",
   "metadata": {},
   "source": [
    "# Image similarity"
   ]
  },
  {
   "cell_type": "markdown",
   "metadata": {},
   "source": [
    "We'll need a way to keep track of how well our algorithm performs. To do that we'll need an image similirity coefficient."
   ]
  },
  {
   "cell_type": "code",
   "execution_count": 2,
   "metadata": {},
   "outputs": [],
   "source": [
    "import gym\n",
    "from telesketch.envs.discrete_telesketch import DiscreteTelesketchEnv\n",
    "import numpy as np\n",
    "import cv2\n",
    "\n",
    "from skimage.metrics import structural_similarity as ssim\n",
    "from skimage.metrics import mean_squared_error\n",
    "from skimage.metrics import normalized_root_mse\n",
    "from skimage.metrics import hausdorff_distance\n",
    "from skimage.feature import match_template\n",
    "\n",
    "import matplotlib.pyplot as plt"
   ]
  },
  {
   "cell_type": "code",
   "execution_count": 3,
   "metadata": {},
   "outputs": [],
   "source": [
    "# Ref canvas\n",
    "ref_canvas = np.full((64, 64, 3), 255, dtype=np.uint8)\n",
    "ref_canvas = cv2.line(ref_canvas, (0, 0), (32, 32), (0, 0, 0), 2)\n",
    "ref_canvas = cv2.line(ref_canvas, (32, 32), (64, 32), (0, 0, 0), 2)\n",
    "#ref_canvas = cv2.line(ref_canvas, (0, 125), (250, 125), (0, 0, 0), 5)\n",
    "\n",
    "# Sim func\n",
    "mse = lambda x, y: np.sum((x - y) ** 2)\n",
    "mse = lambda x, y: np.sum((x - y) ** 2)"
   ]
  },
  {
   "cell_type": "code",
   "execution_count": 20,
   "metadata": {},
   "outputs": [
    {
     "data": {
      "text/plain": [
       "<matplotlib.image.AxesImage at 0x7f7996443fd0>"
      ]
     },
     "execution_count": 20,
     "metadata": {},
     "output_type": "execute_result"
    },
    {
     "data": {
      "image/png": "[encoded data removed]",
      "text/plain": [
       "<Figure size 432x288 with 1 Axes>"
      ]
     },
     "metadata": {
      "needs_background": "light"
     },
     "output_type": "display_data"
    }
   ],
   "source": [
    "x = np.full((64, 64, 3), 255, dtype=np.uint8)\n",
    "z = cv2.cvtColor(x, cv2.COLOR_BGR2GRAY).astype(np.float32) / 255.0\n",
    "y = cv2.line(z, (0, 0), (32, 32), (0, 0, 0), 2)\n",
    "\n",
    "plt.imshow(y, cmap=\"gray\")"
   ]
  },
  {
   "cell_type": "code",
   "execution_count": 58,
   "metadata": {},
   "outputs": [
    {
     "data": {
      "text/plain": [
       "array([[0., 0., 0., ..., 1., 1., 1.],\n",
       "       [0., 0., 0., ..., 1., 1., 1.],\n",
       "       [0., 0., 0., ..., 1., 1., 1.],\n",
       "       ...,\n",
       "       [1., 1., 1., ..., 1., 1., 1.],\n",
       "       [1., 1., 1., ..., 1., 1., 1.],\n",
       "       [1., 1., 1., ..., 1., 1., 1.]], dtype=float32)"
      ]
     },
     "execution_count": 58,
     "metadata": {},
     "output_type": "execute_result"
    }
   ],
   "source": [
    "z"
   ]
  },
  {
   "cell_type": "code",
   "execution_count": 61,
   "metadata": {},
   "outputs": [
    {
     "data": {
      "text/plain": [
       "'(1, 2)'"
      ]
     },
     "execution_count": 61,
     "metadata": {},
     "output_type": "execute_result"
    }
   ],
   "source": [
    "q = (1, 2)\n",
    "\n",
    "f\"[{*q}]\""
   ]
  },
  {
   "cell_type": "code",
   "execution_count": 36,
   "metadata": {},
   "outputs": [
    {
     "data": {
      "text/plain": [
       "3.4028235e+38"
      ]
     },
     "execution_count": 36,
     "metadata": {},
     "output_type": "execute_result"
    }
   ],
   "source": [
    "np.finfo(np.float32).min\n",
    "np.finfo(np.float32).max"
   ]
  },
  {
   "cell_type": "code",
   "execution_count": 45,
   "metadata": {},
   "outputs": [
    {
     "data": {
      "text/plain": [
       "array([4.357372e+37, 7.114343e+00], dtype=float32)"
      ]
     },
     "execution_count": 45,
     "metadata": {},
     "output_type": "execute_result"
    }
   ],
   "source": [
    "from gymnasium import spaces\n",
    "\n",
    "x = spaces.Box(\n",
    "    low=np.array([np.finfo(np.float32).min, 0]), \n",
    "    high=np.array([np.finfo(np.float32).max, 10]), \n",
    "    shape=(2,), \n",
    "    dtype=np.float32)\n",
    "\n",
    "x.sample()"
   ]
  },
  {
   "cell_type": "code",
   "execution_count": 57,
   "metadata": {},
   "outputs": [
    {
     "data": {
      "text/plain": [
       "(2,)"
      ]
     },
     "execution_count": 57,
     "metadata": {},
     "output_type": "execute_result"
    }
   ],
   "source": [
    "y = spaces.Box(np.array((0, 0)), np.array((64, 64)), shape=(2,), dtype=np.int32)\n",
    "\n",
    "\n",
    "y."
   ]
  },
  {
   "cell_type": "code",
   "execution_count": 68,
   "metadata": {},
   "outputs": [],
   "source": [
    "# Ref canvas\n",
    "IMG_SIZE = 64\n",
    "PATCH_SIZE = 11\n",
    "ref_canvas = np.full((IMG_SIZE, IMG_SIZE, 3), 255, dtype=np.uint8)\n",
    "ref_canvas = cv2.line(ref_canvas, (0, 0), (32, 32), (0, 0, 0), 2)\n",
    "ref_canvas = cv2.line(ref_canvas, (32, 32), (64, 32), (0, 0, 0), 2)\n",
    "\n",
    "rmse = lambda x, y: np.sum((x - y) ** 2)\n",
    "env = DiscreteTelesketchEnv(\n",
    "    ref_canvas, \n",
    "    rmse,\n",
    "    lambda sim: sim < 5,\n",
    "    5, 2, \n",
    "    patch_size=(PATCH_SIZE, PATCH_SIZE), \n",
    "    render_mode=\"image\"\n",
    ")\n",
    "\n",
    "env.reset();"
   ]
  },
  {
   "cell_type": "code",
   "execution_count": null,
   "metadata": {},
   "outputs": [],
   "source": []
  },
  {
   "cell_type": "code",
   "execution_count": 78,
   "metadata": {},
   "outputs": [
    {
     "data": {
      "image/png": "[encoded data removed]",
      "text/plain": [
       "<Figure size 576x576 with 6 Axes>"
      ]
     },
     "metadata": {
      "needs_background": "light"
     },
     "output_type": "display_data"
    },
    {
     "name": "stdout",
     "output_type": "stream",
     "text": [
      "0.1270331784326304\n",
      "0.9540682044427002\n",
      "[[0.8624957]]\n",
      "[[0.01600878]]\n",
      "62.0\n",
      "0.02587080046551521\n",
      "0.21686105293279523\n",
      "0.03128892636601511\n"
     ]
    }
   ],
   "source": [
    "x = env.step(0)\n",
    "env.render()\n",
    "\n",
    "ref = x[0][\"ref\"]\n",
    "cnv = x[0][\"cnv\"]\n",
    "\n",
    "print(normalized_root_mse(ref, cnv))\n",
    "print(ssim(ref, cnv, data_range=1))\n",
    "print(match_template(ref, cnv))\n",
    "print(cv2.matchTemplate(cnv, ref, cv2.TM_SQDIFF_NORMED))\n",
    "print(rmse(ref, cnv))\n",
    "\n",
    "d1 = cv2.matchShapes(ref, cnv, cv2.CONTOURS_MATCH_I1,0) \n",
    "d2 = cv2.matchShapes(ref, cnv, cv2.CONTOURS_MATCH_I2,0) \n",
    "d3 = cv2.matchShapes(ref, cnv, cv2.CONTOURS_MATCH_I3,0)\n",
    "\n",
    "print(d1)\n",
    "print(d2)\n",
    "print(d3)"
   ]
  },
  {
   "cell_type": "code",
   "execution_count": 46,
   "metadata": {},
   "outputs": [
    {
     "data": {
      "text/plain": [
       "array([[0., 0., 0., ..., 1., 1., 1.],\n",
       "       [0., 0., 0., ..., 1., 1., 1.],\n",
       "       [1., 1., 1., ..., 1., 1., 1.],\n",
       "       ...,\n",
       "       [1., 1., 1., ..., 1., 1., 1.],\n",
       "       [1., 1., 1., ..., 1., 1., 1.],\n",
       "       [1., 1., 1., ..., 1., 1., 1.]], dtype=float32)"
      ]
     },
     "execution_count": 46,
     "metadata": {},
     "output_type": "execute_result"
    }
   ],
   "source": [
    "cnv"
   ]
  },
  {
   "cell_type": "code",
   "execution_count": 47,
   "metadata": {},
   "outputs": [],
   "source": [
    "moments = cv2.moments(cnv)\n",
    "hu_moments = cv2.HuMoments(moments)"
   ]
  },
  {
   "cell_type": "code",
   "execution_count": 50,
   "metadata": {},
   "outputs": [
    {
     "name": "stdout",
     "output_type": "stream",
     "text": [
      "0.013044666369408514\n",
      "0.23099505126859676\n",
      "0.04896674464676077\n"
     ]
    }
   ],
   "source": []
  },
  {
   "cell_type": "code",
   "execution_count": null,
   "metadata": {},
   "outputs": [],
   "source": []
  }
 ],
 "metadata": {
  "kernelspec": {
   "display_name": "Python 3.8.13 ('rlenv')",
   "language": "python",
   "name": "python3"
  },
  "language_info": {
   "codemirror_mode": {
    "name": "ipython",
    "version": 3
   },
   "file_extension": ".py",
   "mimetype": "text/x-python",
   "name": "python",
   "nbconvert_exporter": "python",
   "pygments_lexer": "ipython3",
   "version": "3.8.13"
  },
  "orig_nbformat": 4,
  "vscode": {
   "interpreter": {
    "hash": "4bc5bdd1f96b0bfe1b0a7578d394c815a18b7bbf3d83f21c57372441a2e86538"
   }
  }
 },
 "nbformat": 4,
 "nbformat_minor": 2
}
