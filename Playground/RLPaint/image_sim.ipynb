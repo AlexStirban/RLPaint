{
 "cells": [
  {
   "cell_type": "markdown",
   "metadata": {},
   "source": [
    "# Image similarity"
   ]
  },
  {
   "cell_type": "markdown",
   "metadata": {},
   "source": [
    "We'll need a way to keep track of how well our algorithm performs. To do that we'll need an image similirity coefficient."
   ]
  },
  {
   "cell_type": "code",
   "execution_count": 23,
   "metadata": {},
   "outputs": [],
   "source": [
    "import cv2\n",
    "\n",
    "import numpy as np\n",
    "import matplotlib.pyplot as plt"
   ]
  },
  {
   "cell_type": "code",
   "execution_count": 31,
   "metadata": {},
   "outputs": [
    {
     "data": {
      "image/png": "[encoded data removed]",
      "text/plain": [
       "<Figure size 576x576 with 2 Axes>"
      ]
     },
     "metadata": {
      "needs_background": "light"
     },
     "output_type": "display_data"
    }
   ],
   "source": [
    "img_1 = np.full((500, 500, 3), 255, dtype=np.uint8)\n",
    "img_2 = np.full((500, 500, 3), 255, dtype=np.uint8)\n",
    "\n",
    "#img_1 = cv2.cvtColor(img_1, cv2.COLOR_BGR2GRAY) / 255.0\n",
    "#img_1 = cv2.cvtColor(img_2, cv2.COLOR_BGR2GRAY) / 255.0\n",
    "\n",
    "#img_1 = cv2.line(img_1, np.array((0, 0)), np.array((500, 500)), (0, 0, 0), 10)\n",
    "#img_2 = cv2.line(img_2, (0, 250), (500, 500), (0, 0, 0), 5)\n",
    "\n",
    "fig, (ax1, ax2) = plt.subplots(1, 2,  figsize=(8, 8))\n",
    "ax1.imshow(img_1, cmap=\"gray\")\n",
    "ax2.imshow(img_2, cmap=\"gray\")\n",
    "plt.show()"
   ]
  },
  {
   "cell_type": "code",
   "execution_count": 20,
   "metadata": {},
   "outputs": [
    {
     "data": {
      "text/plain": [
       "array([0., 1.])"
      ]
     },
     "execution_count": 20,
     "metadata": {},
     "output_type": "execute_result"
    }
   ],
   "source": [
    "img_1 - img_"
   ]
  },
  {
   "cell_type": "code",
   "execution_count": null,
   "metadata": {},
   "outputs": [],
   "source": []
  }
 ],
 "metadata": {
  "kernelspec": {
   "display_name": "Python 3.8.13 ('rlenv')",
   "language": "python",
   "name": "python3"
  },
  "language_info": {
   "codemirror_mode": {
    "name": "ipython",
    "version": 3
   },
   "file_extension": ".py",
   "mimetype": "text/x-python",
   "name": "python",
   "nbconvert_exporter": "python",
   "pygments_lexer": "ipython3",
   "version": "3.8.13"
  },
  "orig_nbformat": 4,
  "vscode": {
   "interpreter": {
    "hash": "4bc5bdd1f96b0bfe1b0a7578d394c815a18b7bbf3d83f21c57372441a2e86538"
   }
  }
 },
 "nbformat": 4,
 "nbformat_minor": 2
}
